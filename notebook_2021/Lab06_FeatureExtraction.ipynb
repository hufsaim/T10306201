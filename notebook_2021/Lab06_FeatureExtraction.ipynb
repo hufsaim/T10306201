{
  "nbformat": 4,
  "nbformat_minor": 0,
  "metadata": {
    "colab": {
      "name": "Lab06_FeatureExtraction.ipynb",
      "provenance": [],
      "collapsed_sections": [],
      "mount_file_id": "1hFGMOaVWmykEMRGjltx14Shq8crb4QPm",
      "authorship_tag": "ABX9TyMT214y46MexYOTZ9hqpu9P",
      "include_colab_link": true
    },
    "kernelspec": {
      "name": "python3",
      "display_name": "Python 3"
    },
    "language_info": {
      "name": "python"
    },
    "accelerator": "GPU"
  },
  "cells": [
    {
      "cell_type": "markdown",
      "metadata": {
        "id": "view-in-github",
        "colab_type": "text"
      },
      "source": [
        "<a href=\"https://colab.research.google.com/github/hufsaim/T10306201/blob/master/notebook_2021/Lab06_FeatureExtraction.ipynb\" target=\"_parent\"><img src=\"https://colab.research.google.com/assets/colab-badge.svg\" alt=\"Open In Colab\"/></a>"
      ]
    },
    {
      "cell_type": "markdown",
      "metadata": {
        "id": "lCexX9FYb2bO"
      },
      "source": [
        "# Feature Extraction\n",
        "- Radiomics는 의료영상으로부터 미리 정의한 다양한 feature를 추출하여 다양한 목적으로 활양하는 분야로, CT, MRI, PET 등의 의료영상을 통한 연구에 매우 활발하게 적용이 되고 있다. \n",
        "- 본 실습에서는 pyradiomics를 이용하여 nifti image/label 로부터 radiomics feature를 추출하는 과정을 연습합니다.\n",
        "- 보다 자세한 내용은 아래 사이트들을 참고합니다.\n",
        "  - https://github.com/AIM-Harvard/pyradiomics\n",
        "  - https://www.radiomics.io/pyradiomics.html\n",
        "  - https://doi.org/10.1158/0008-5472.CAN-17-0339\n",
        "  \n"
      ]
    },
    {
      "cell_type": "code",
      "metadata": {
        "colab": {
          "base_uri": "https://localhost:8080/"
        },
        "id": "cdkUtbEnZe_3",
        "outputId": "4aa7b5cd-4dc2-439b-d365-4c392a747bc6"
      },
      "source": [
        "!python -m pip install pyradiomics"
      ],
      "execution_count": 1,
      "outputs": [
        {
          "output_type": "stream",
          "name": "stdout",
          "text": [
            "Requirement already satisfied: pyradiomics in /usr/local/lib/python3.7/dist-packages (3.0.1)\n",
            "Requirement already satisfied: PyWavelets>=0.4.0 in /usr/local/lib/python3.7/dist-packages (from pyradiomics) (1.1.1)\n",
            "Requirement already satisfied: six>=1.10.0 in /usr/local/lib/python3.7/dist-packages (from pyradiomics) (1.15.0)\n",
            "Requirement already satisfied: SimpleITK>=0.9.1 in /usr/local/lib/python3.7/dist-packages (from pyradiomics) (2.1.1)\n",
            "Requirement already satisfied: pykwalify>=1.6.0 in /usr/local/lib/python3.7/dist-packages (from pyradiomics) (1.8.0)\n",
            "Requirement already satisfied: numpy>=1.9.2 in /usr/local/lib/python3.7/dist-packages (from pyradiomics) (1.19.5)\n",
            "Requirement already satisfied: python-dateutil>=2.8.0 in /usr/local/lib/python3.7/dist-packages (from pykwalify>=1.6.0->pyradiomics) (2.8.2)\n",
            "Requirement already satisfied: docopt>=0.6.2 in /usr/local/lib/python3.7/dist-packages (from pykwalify>=1.6.0->pyradiomics) (0.6.2)\n",
            "Requirement already satisfied: ruamel.yaml>=0.16.0 in /usr/local/lib/python3.7/dist-packages (from pykwalify>=1.6.0->pyradiomics) (0.17.16)\n",
            "Requirement already satisfied: ruamel.yaml.clib>=0.1.2 in /usr/local/lib/python3.7/dist-packages (from ruamel.yaml>=0.16.0->pykwalify>=1.6.0->pyradiomics) (0.2.6)\n"
          ]
        }
      ]
    },
    {
      "cell_type": "code",
      "metadata": {
        "id": "Gc2A8IENZV2c"
      },
      "source": [
        "from __future__ import print_function\n",
        "import six\n",
        "import os  # needed navigate the system to get the input data\n",
        "\n",
        "import radiomics\n",
        "from radiomics import featureextractor  # This module is used for interaction with pyradiomics\n",
        "import SimpleITK as sitk\n",
        "\n",
        "import os\n",
        "import glob\n",
        "import numpy as np\n",
        "import matplotlib.pyplot as plt"
      ],
      "execution_count": 2,
      "outputs": []
    },
    {
      "cell_type": "code",
      "metadata": {
        "colab": {
          "base_uri": "https://localhost:8080/"
        },
        "id": "0Z0XeZSLazWM",
        "outputId": "d0e2ffbb-ab2e-4ee1-ac84-eea246ce848d"
      },
      "source": [
        "path0 = '/content/drive/MyDrive/data/brats18/brats18_train' # replace your data path\n",
        "dpiv = 80\n",
        "path_list = glob.glob(os.path.join(path0,'Brats18*'))\n",
        "len(path_list)"
      ],
      "execution_count": 3,
      "outputs": [
        {
          "output_type": "execute_result",
          "data": {
            "text/plain": [
              "100"
            ]
          },
          "metadata": {},
          "execution_count": 3
        }
      ]
    },
    {
      "cell_type": "code",
      "metadata": {
        "colab": {
          "base_uri": "https://localhost:8080/"
        },
        "id": "4D8-zDyAczEu",
        "outputId": "4cf1bd6b-1299-4e8c-cd00-b20c531c779d"
      },
      "source": [
        "# First define the settings\n",
        "settings = {}\n",
        "settings['binWidth'] = 10\n",
        "settings['sigma'] = 1\n",
        "settings['label'] = 4\n",
        "\n",
        "# Instantiate the extractor\n",
        "extractor = featureextractor.RadiomicsFeatureExtractor(**settings)  # ** 'unpacks' the dictionary in the function call\n",
        "\n",
        "print('Extraction parameters:\\n\\t', extractor.settings)\n",
        "print('Enabled filters:\\n\\t', extractor.enabledImagetypes)  # Still the default parameters\n",
        "print('Enabled features:\\n\\t', extractor.enabledFeatures)  # Still the default parameters"
      ],
      "execution_count": 21,
      "outputs": [
        {
          "output_type": "stream",
          "name": "stdout",
          "text": [
            "Extraction parameters:\n",
            "\t {'minimumROIDimensions': 2, 'minimumROISize': None, 'normalize': False, 'normalizeScale': 1, 'removeOutliers': None, 'resampledPixelSpacing': None, 'interpolator': 'sitkBSpline', 'preCrop': False, 'padDistance': 5, 'distances': [1], 'force2D': False, 'force2Ddimension': 0, 'resegmentRange': None, 'label': 4, 'additionalInfo': True, 'binWidth': 10, 'sigma': 1}\n",
            "Enabled filters:\n",
            "\t {'Original': {}}\n",
            "Enabled features:\n",
            "\t {'firstorder': [], 'glcm': [], 'gldm': [], 'glrlm': [], 'glszm': [], 'ngtdm': [], 'shape': []}\n"
          ]
        }
      ]
    },
    {
      "cell_type": "code",
      "metadata": {
        "colab": {
          "base_uri": "https://localhost:8080/"
        },
        "id": "qgDj0DHpbH1H",
        "outputId": "47982472-4a73-46eb-93e5-f26b5500ff9c"
      },
      "source": [
        "train_ind = np.arange(0,10)\n",
        "data_dicts = [\n",
        "    {\n",
        "        \"image\": os.path.join(path_list[idx],\n",
        "                                    \"t1ce.nii.gz\"),\n",
        "        \"label\": os.path.join(path_list[idx],\n",
        "                                    \"seg.nii.gz\"),\n",
        "    }\n",
        "    for idx in train_ind\n",
        "]\n",
        "train_files =  data_dicts\n",
        "train_files[3]"
      ],
      "execution_count": 22,
      "outputs": [
        {
          "output_type": "execute_result",
          "data": {
            "text/plain": [
              "{'image': '/content/drive/MyDrive/data/brats18/brats18_train/Brats18_CBICA_APR_1/t1ce.nii.gz',\n",
              " 'label': '/content/drive/MyDrive/data/brats18/brats18_train/Brats18_CBICA_APR_1/seg.nii.gz'}"
            ]
          },
          "metadata": {},
          "execution_count": 22
        }
      ]
    },
    {
      "cell_type": "code",
      "metadata": {
        "colab": {
          "base_uri": "https://localhost:8080/"
        },
        "id": "6HaU7W7cbKDQ",
        "outputId": "ee2a72ce-d528-482c-8561-008089443197"
      },
      "source": [
        "n1=1\n",
        "imagePath1 = train_files[n1]['image']\n",
        "maskPath1 = train_files[n1]['label']\n",
        "print(imagePath1)\n",
        "print(maskPath1)"
      ],
      "execution_count": 23,
      "outputs": [
        {
          "output_type": "stream",
          "name": "stdout",
          "text": [
            "/content/drive/MyDrive/data/brats18/brats18_train/Brats18_CBICA_ASA_1/t1ce.nii.gz\n",
            "/content/drive/MyDrive/data/brats18/brats18_train/Brats18_CBICA_ASA_1/seg.nii.gz\n"
          ]
        }
      ]
    },
    {
      "cell_type": "code",
      "metadata": {
        "id": "sra98EsMimfU"
      },
      "source": [
        "image1 = sitk.ReadImage(imagePath1)\n",
        "label1 = sitk.ReadImage(maskPath1)"
      ],
      "execution_count": 24,
      "outputs": []
    },
    {
      "cell_type": "code",
      "metadata": {
        "colab": {
          "base_uri": "https://localhost:8080/",
          "height": 367
        },
        "id": "bonGm3LTit0M",
        "outputId": "cbf19d54-57ee-45c6-eca9-27c0ebf38b65"
      },
      "source": [
        "plt.figure(figsize=(12,8))\n",
        "plt.subplot(1,2,1)\n",
        "plt.imshow(np.sum(sitk.GetArrayFromImage(image1),axis=0), cmap=\"gray\")\n",
        "plt.title(\"Brain\")\n",
        "plt.subplot(1,2,2)\n",
        "plt.imshow(np.sum(sitk.GetArrayFromImage(label1)==4,axis=0))        \n",
        "plt.title(\"Segmentation\")\n",
        "plt.show()"
      ],
      "execution_count": 25,
      "outputs": [
        {
          "output_type": "display_data",
          "data": {
            "image/png": "[encoded data removed]",
            "text/plain": [
              "<Figure size 864x576 with 2 Axes>"
            ]
          },
          "metadata": {
            "needs_background": "light"
          }
        }
      ]
    },
    {
      "cell_type": "code",
      "metadata": {
        "colab": {
          "base_uri": "https://localhost:8080/"
        },
        "id": "J-CKYFuteDm1",
        "outputId": "66840968-76c9-4f77-eacd-f1575d767172"
      },
      "source": [
        "n2=8\n",
        "imagePath2 = train_files[n2]['image']\n",
        "maskPath2 = train_files[n2]['label']\n",
        "print(imagePath2)\n",
        "print(maskPath2)"
      ],
      "execution_count": 26,
      "outputs": [
        {
          "output_type": "stream",
          "name": "stdout",
          "text": [
            "/content/drive/MyDrive/data/brats18/brats18_train/Brats18_TCIA04_192_1/t1ce.nii.gz\n",
            "/content/drive/MyDrive/data/brats18/brats18_train/Brats18_TCIA04_192_1/seg.nii.gz\n"
          ]
        }
      ]
    },
    {
      "cell_type": "code",
      "metadata": {
        "id": "nYIstblRjJVE"
      },
      "source": [
        "image2 = sitk.ReadImage(imagePath2)\n",
        "label2 = sitk.ReadImage(maskPath2)"
      ],
      "execution_count": 27,
      "outputs": []
    },
    {
      "cell_type": "code",
      "metadata": {
        "colab": {
          "base_uri": "https://localhost:8080/",
          "height": 367
        },
        "id": "34QgZ9J9jJY9",
        "outputId": "0b989f69-e8b5-4632-d875-e594393ae350"
      },
      "source": [
        "plt.figure(figsize=(12,8))\n",
        "plt.subplot(1,2,1)\n",
        "plt.imshow(np.sum(sitk.GetArrayFromImage(image2),axis=0), cmap=\"gray\")\n",
        "plt.title(\"Brain\")\n",
        "plt.subplot(1,2,2)\n",
        "plt.imshow(np.sum(sitk.GetArrayFromImage(label2)==4,axis=0))        \n",
        "plt.title(\"Segmentation\")\n",
        "plt.show()"
      ],
      "execution_count": 28,
      "outputs": [
        {
          "output_type": "display_data",
          "data": {
            "image/png": "[encoded data removed]",
            "text/plain": [
              "<Figure size 864x576 with 2 Axes>"
            ]
          },
          "metadata": {
            "needs_background": "light"
          }
        }
      ]
    },
    {
      "cell_type": "code",
      "metadata": {
        "colab": {
          "base_uri": "https://localhost:8080/"
        },
        "id": "6LaTrNUvbOSv",
        "outputId": "ee0e8531-d297-4d55-aec6-9df0c5bf92d1"
      },
      "source": [
        "result_1 = extractor.execute(imagePath1, maskPath1)\n",
        "result_2 = extractor.execute(imagePath2, maskPath2)"
      ],
      "execution_count": 29,
      "outputs": [
        {
          "output_type": "stream",
          "name": "stderr",
          "text": [
            "GLCM is symmetrical, therefore Sum Average = 2 * Joint Average, only 1 needs to be calculated\n",
            "GLCM is symmetrical, therefore Sum Average = 2 * Joint Average, only 1 needs to be calculated\n"
          ]
        }
      ]
    },
    {
      "cell_type": "code",
      "metadata": {
        "colab": {
          "base_uri": "https://localhost:8080/"
        },
        "id": "MNo_7y9ijiUA",
        "outputId": "129025b5-9dcf-413b-b607-216c25642681"
      },
      "source": [
        "print('volume of #1:',result_1['original_shape_VoxelVolume'])\n",
        "print('volume of #2:',result_2['original_shape_VoxelVolume'])\n"
      ],
      "execution_count": 30,
      "outputs": [
        {
          "output_type": "stream",
          "name": "stdout",
          "text": [
            "volume of #1: 40108.0\n",
            "volume of #2: 15090.0\n"
          ]
        }
      ]
    },
    {
      "cell_type": "code",
      "metadata": {
        "colab": {
          "base_uri": "https://localhost:8080/"
        },
        "id": "PXJFao1lbdz5",
        "outputId": "5991e458-4cf0-4296-f587-33af27ffc975"
      },
      "source": [
        "#print('Result type:', type(result))  # result is returned in a Python ordered dictionary)\n",
        "print('')\n",
        "print('Calculated features')\n",
        "for key, value in six.iteritems(result_1):\n",
        "    print('\\t', key, ':', value)"
      ],
      "execution_count": 31,
      "outputs": [
        {
          "output_type": "stream",
          "name": "stdout",
          "text": [
            "\n",
            "Calculated features\n",
            "\t diagnostics_Versions_PyRadiomics : v3.0.1\n",
            "\t diagnostics_Versions_Numpy : 1.19.5\n",
            "\t diagnostics_Versions_SimpleITK : 2.1.1\n",
            "\t diagnostics_Versions_PyWavelet : 1.1.1\n",
            "\t diagnostics_Versions_Python : 3.7.12\n",
            "\t diagnostics_Configuration_Settings : {'minimumROIDimensions': 2, 'minimumROISize': None, 'normalize': False, 'normalizeScale': 1, 'removeOutliers': None, 'resampledPixelSpacing': None, 'interpolator': 'sitkBSpline', 'preCrop': False, 'padDistance': 5, 'distances': [1], 'force2D': False, 'force2Ddimension': 0, 'resegmentRange': None, 'label': 4, 'additionalInfo': True, 'binWidth': 10, 'sigma': 1}\n",
            "\t diagnostics_Configuration_EnabledImageTypes : {'Original': {}}\n",
            "\t diagnostics_Image-original_Hash : ffe8d5a8ba9e164852b073f2a4acf6164f70a7f1\n",
            "\t diagnostics_Image-original_Dimensionality : 3D\n",
            "\t diagnostics_Image-original_Spacing : (1.0, 1.0, 1.0)\n",
            "\t diagnostics_Image-original_Size : (240, 240, 155)\n",
            "\t diagnostics_Image-original_Mean : 80.23258691756273\n",
            "\t diagnostics_Image-original_Minimum : 0.0\n",
            "\t diagnostics_Image-original_Maximum : 2691.0\n",
            "\t diagnostics_Mask-original_Hash : defc519c61d4a4ff20767463f29fe93bf8784c7a\n",
            "\t diagnostics_Mask-original_Spacing : (1.0, 1.0, 1.0)\n",
            "\t diagnostics_Mask-original_Size : (240, 240, 155)\n",
            "\t diagnostics_Mask-original_BoundingBox : (72, 122, 51, 53, 67, 61)\n",
            "\t diagnostics_Mask-original_VoxelNum : 40108\n",
            "\t diagnostics_Mask-original_VolumeNum : 6\n",
            "\t diagnostics_Mask-original_CenterOfMassIndex : (96.44993517502742, 155.84352248927894, 84.63685549017653)\n",
            "\t diagnostics_Mask-original_CenterOfMass : (96.44993517502742, -83.15647751072106, 84.63685549017653)\n",
            "\t original_shape_Elongation : 0.6022040608668096\n",
            "\t original_shape_Flatness : 0.48134955768589943\n",
            "\t original_shape_LeastAxisLength : 35.77204076137547\n",
            "\t original_shape_MajorAxisLength : 74.31613925927448\n",
            "\t original_shape_Maximum2DDiameterColumn : 58.60034129593445\n",
            "\t original_shape_Maximum2DDiameterRow : 66.57326790837296\n",
            "\t original_shape_Maximum2DDiameterSlice : 67.08203932499369\n",
            "\t original_shape_Maximum3DDiameter : 86.31338250816034\n",
            "\t original_shape_MeshVolume : 40336.416666666664\n",
            "\t original_shape_MinorAxisLength : 44.75348084987842\n",
            "\t original_shape_Sphericity : 0.20328914668403106\n",
            "\t original_shape_SurfaceArea : 27979.16876993689\n",
            "\t original_shape_SurfaceVolumeRatio : 0.6936453726455678\n",
            "\t original_shape_VoxelVolume : 40108.0\n",
            "\t original_firstorder_10Percentile : 773.0\n",
            "\t original_firstorder_90Percentile : 1467.0\n",
            "\t original_firstorder_Energy : 52964321143.0\n",
            "\t original_firstorder_Entropy : 6.762716674781641\n",
            "\t original_firstorder_InterquartileRange : 387.0\n",
            "\t original_firstorder_Kurtosis : 2.8332313231578437\n",
            "\t original_firstorder_Maximum : 2330.0\n",
            "\t original_firstorder_MeanAbsoluteDeviation : 218.25668267856904\n",
            "\t original_firstorder_Mean : 1117.5417622419468\n",
            "\t original_firstorder_Median : 1107.0\n",
            "\t original_firstorder_Minimum : 188.0\n",
            "\t original_firstorder_Range : 2142.0\n",
            "\t original_firstorder_RobustMeanAbsoluteDeviation : 158.74245579449985\n",
            "\t original_firstorder_RootMeanSquared : 1149.148625571617\n",
            "\t original_firstorder_Skewness : 0.2744285080104855\n",
            "\t original_firstorder_TotalEnergy : 52964321143.0\n",
            "\t original_firstorder_Uniformity : 0.010374502058762673\n",
            "\t original_firstorder_Variance : 71642.97329830068\n",
            "\t original_glcm_Autocorrelation : 10043.450328207155\n",
            "\t original_glcm_ClusterProminence : 12209799.158870813\n",
            "\t original_glcm_ClusterShade : 21514.804975073166\n",
            "\t original_glcm_ClusterTendency : 2023.8012587782387\n",
            "\t original_glcm_Contrast : 654.1567323498541\n",
            "\t original_glcm_Correlation : 0.512291812541858\n",
            "\t original_glcm_DifferenceAverage : 19.742093029875107\n",
            "\t original_glcm_DifferenceEntropy : 5.709771379317027\n",
            "\t original_glcm_DifferenceVariance : 258.33116520395095\n",
            "\t original_glcm_Id : 0.11514370219625432\n",
            "\t original_glcm_Idm : 0.05376663644408823\n",
            "\t original_glcm_Idmn : 0.9866330069210574\n",
            "\t original_glcm_Idn : 0.9203132036168207\n",
            "\t original_glcm_Imc1 : -0.07046811658797701\n",
            "\t original_glcm_Imc2 : 0.7759357626638104\n",
            "\t original_glcm_InverseVariance : 0.056481629048094055\n",
            "\t original_glcm_JointAverage : 98.49378592899669\n",
            "\t original_glcm_JointEnergy : 0.00015898496654588443\n",
            "\t original_glcm_JointEntropy : 12.970749362985542\n",
            "\t original_glcm_MCC : 0.523166307227173\n",
            "\t original_glcm_MaximumProbability : 0.00048309294611608263\n",
            "\t original_glcm_SumAverage : 196.9875718579932\n",
            "\t original_glcm_SumEntropy : 7.51610246108615\n",
            "\t original_glcm_SumSquares : 669.4894977820246\n",
            "\t original_gldm_DependenceEntropy : 7.855963126242901\n",
            "\t original_gldm_DependenceNonUniformity : 22369.15318639673\n",
            "\t original_gldm_DependenceNonUniformityNormalized : 0.5577229776203433\n",
            "\t original_gldm_DependenceVariance : 0.38873971910428456\n",
            "\t original_gldm_GrayLevelNonUniformity : 416.1005285728533\n",
            "\t original_gldm_GrayLevelVariance : 716.5217822141265\n",
            "\t original_gldm_HighGrayLevelEmphasis : 9609.66353345966\n",
            "\t original_gldm_LargeDependenceEmphasis : 2.240450782886207\n",
            "\t original_gldm_LargeDependenceHighGrayLevelEmphasis : 22122.183030816796\n",
            "\t original_gldm_LargeDependenceLowGrayLevelEmphasis : 0.00033183792680845596\n",
            "\t original_gldm_LowGrayLevelEmphasis : 0.00017402100790597097\n",
            "\t original_gldm_SmallDependenceEmphasis : 0.7718580249991689\n",
            "\t original_gldm_SmallDependenceHighGrayLevelEmphasis : 7315.323766206244\n",
            "\t original_gldm_SmallDependenceLowGrayLevelEmphasis : 0.00014444073602429297\n",
            "\t original_glrlm_GrayLevelNonUniformity : 409.7442708031357\n",
            "\t original_glrlm_GrayLevelNonUniformityNormalized : 0.010359775352933158\n",
            "\t original_glrlm_GrayLevelVariance : 718.750705894424\n",
            "\t original_glrlm_HighGrayLevelRunEmphasis : 9603.147010205515\n",
            "\t original_glrlm_LongRunEmphasis : 1.0427884570511023\n",
            "\t original_glrlm_LongRunHighGrayLevelEmphasis : 10033.864918462099\n",
            "\t original_glrlm_LongRunLowGrayLevelEmphasis : 0.0001801553936098256\n",
            "\t original_glrlm_LowGrayLevelRunEmphasis : 0.00017466477542412134\n",
            "\t original_glrlm_RunEntropy : 6.867365964447718\n",
            "\t original_glrlm_RunLengthNonUniformity : 38474.73925287546\n",
            "\t original_glrlm_RunLengthNonUniformityNormalized : 0.9727636310685246\n",
            "\t original_glrlm_RunPercentage : 0.9861240036516788\n",
            "\t original_glrlm_RunVariance : 0.014426193332006936\n",
            "\t original_glrlm_ShortRunEmphasis : 0.9896051771699484\n",
            "\t original_glrlm_ShortRunHighGrayLevelEmphasis : 9498.378499286006\n",
            "\t original_glrlm_ShortRunLowGrayLevelEmphasis : 0.00017333128401507324\n",
            "\t original_glszm_GrayLevelNonUniformity : 339.76747392398994\n",
            "\t original_glszm_GrayLevelNonUniformityNormalized : 0.010183655254885203\n",
            "\t original_glszm_GrayLevelVariance : 746.8945780827568\n",
            "\t original_glszm_HighGrayLevelZoneEmphasis : 9519.683970746913\n",
            "\t original_glszm_LargeAreaEmphasis : 1.7639371777964272\n",
            "\t original_glszm_LargeAreaHighGrayLevelEmphasis : 17202.263247812014\n",
            "\t original_glszm_LargeAreaLowGrayLevelEmphasis : 0.0002803800645812465\n",
            "\t original_glszm_LowGrayLevelZoneEmphasis : 0.0001831187149603163\n",
            "\t original_glszm_SizeZoneNonUniformity : 24569.306857690925\n",
            "\t original_glszm_SizeZoneNonUniformityNormalized : 0.736401716151868\n",
            "\t original_glszm_SmallAreaEmphasis : 0.8820040936029766\n",
            "\t original_glszm_SmallAreaHighGrayLevelEmphasis : 8333.427755386288\n",
            "\t original_glszm_SmallAreaLowGrayLevelEmphasis : 0.0001676753563547129\n",
            "\t original_glszm_ZoneEntropy : 7.540859053262888\n",
            "\t original_glszm_ZonePercentage : 0.8318539942156178\n",
            "\t original_glszm_ZoneVariance : 0.31881093563685226\n",
            "\t original_ngtdm_Busyness : 0.2461602487835764\n",
            "\t original_ngtdm_Coarseness : 0.00020867410335749024\n",
            "\t original_ngtdm_Complexity : 213233.4192662299\n",
            "\t original_ngtdm_Contrast : 0.5348494399804258\n",
            "\t original_ngtdm_Strength : 2.892496809909759\n"
          ]
        }
      ]
    },
    {
      "cell_type": "code",
      "metadata": {
        "id": "PizcNLH6boaj"
      },
      "source": [
        "# Make an array of the values\n",
        "feature_1 = np.array([])\n",
        "feature_2 = np.array([])\n",
        "feature_name = np.array([])\n",
        "for key, value in six.iteritems(result_1):\n",
        "    if key.startswith(\"original_shape\"):\n",
        "        feature_name = np.append( feature_name,key.split('_')[-1])\n",
        "        feature_1 = np.append ( feature_1, result_1[key])\n",
        "        feature_2 = np.append ( feature_2, result_2[key])"
      ],
      "execution_count": 32,
      "outputs": []
    },
    {
      "cell_type": "code",
      "metadata": {
        "colab": {
          "base_uri": "https://localhost:8080/",
          "height": 534
        },
        "id": "9Pg8rE81kZeg",
        "outputId": "b199ca7b-908c-4e84-cdc6-4d96bd19d634"
      },
      "source": [
        "plt.figure(dpi=150)\n",
        "plt.bar(np.arange(-.125,len(feature_1)-.125),feature_1,width=0.25)\n",
        "plt.bar(np.arange(0.125,len(feature_2)+0.125),feature_2,width=0.25)\n",
        "plt.yscale('log')\n",
        "plt.legend(['data1','data2'])\n",
        "plt.show()"
      ],
      "execution_count": 33,
      "outputs": [
        {
          "output_type": "display_data",
          "data": {
            "image/png": "[encoded data removed]",
            "text/plain": [
              "<Figure size 900x600 with 1 Axes>"
            ]
          },
          "metadata": {
            "needs_background": "light"
          }
        }
      ]
    },
    {
      "cell_type": "code",
      "metadata": {
        "id": "PjhOenEhkfOr"
      },
      "source": [
        "import pandas as pd"
      ],
      "execution_count": 34,
      "outputs": []
    },
    {
      "cell_type": "code",
      "metadata": {
        "colab": {
          "base_uri": "https://localhost:8080/",
          "height": 477
        },
        "id": "HgYJqTnwk4Qb",
        "outputId": "98738b81-488f-4572-95ce-3440cec88dbd"
      },
      "source": [
        "T = pd.DataFrame({'feature_name':feature_name,path_list[n1].split('/')[-1]:feature_1,path_list[n2].split('/')[-1]:feature_2})\n",
        "T"
      ],
      "execution_count": 35,
      "outputs": [
        {
          "output_type": "execute_result",
          "data": {
            "text/html": [
              "<div>\n",
              "<style scoped>\n",
              "    .dataframe tbody tr th:only-of-type {\n",
              "        vertical-align: middle;\n",
              "    }\n",
              "\n",
              "    .dataframe tbody tr th {\n",
              "        vertical-align: top;\n",
              "    }\n",
              "\n",
              "    .dataframe thead th {\n",
              "        text-align: right;\n",
              "    }\n",
              "</style>\n",
              "<table border=\"1\" class=\"dataframe\">\n",
              "  <thead>\n",
              "    <tr style=\"text-align: right;\">\n",
              "      <th></th>\n",
              "      <th>feature_name</th>\n",
              "      <th>Brats18_CBICA_ASA_1</th>\n",
              "      <th>Brats18_TCIA04_192_1</th>\n",
              "    </tr>\n",
              "  </thead>\n",
              "  <tbody>\n",
              "    <tr>\n",
              "      <th>0</th>\n",
              "      <td>Elongation</td>\n",
              "      <td>0.602204</td>\n",
              "      <td>0.770123</td>\n",
              "    </tr>\n",
              "    <tr>\n",
              "      <th>1</th>\n",
              "      <td>Flatness</td>\n",
              "      <td>0.481350</td>\n",
              "      <td>0.706205</td>\n",
              "    </tr>\n",
              "    <tr>\n",
              "      <th>2</th>\n",
              "      <td>LeastAxisLength</td>\n",
              "      <td>35.772041</td>\n",
              "      <td>24.652105</td>\n",
              "    </tr>\n",
              "    <tr>\n",
              "      <th>3</th>\n",
              "      <td>MajorAxisLength</td>\n",
              "      <td>74.316139</td>\n",
              "      <td>34.907843</td>\n",
              "    </tr>\n",
              "    <tr>\n",
              "      <th>4</th>\n",
              "      <td>Maximum2DDiameterColumn</td>\n",
              "      <td>58.600341</td>\n",
              "      <td>40.360872</td>\n",
              "    </tr>\n",
              "    <tr>\n",
              "      <th>5</th>\n",
              "      <td>Maximum2DDiameterRow</td>\n",
              "      <td>66.573268</td>\n",
              "      <td>38.013156</td>\n",
              "    </tr>\n",
              "    <tr>\n",
              "      <th>6</th>\n",
              "      <td>Maximum2DDiameterSlice</td>\n",
              "      <td>67.082039</td>\n",
              "      <td>33.060551</td>\n",
              "    </tr>\n",
              "    <tr>\n",
              "      <th>7</th>\n",
              "      <td>Maximum3DDiameter</td>\n",
              "      <td>86.313383</td>\n",
              "      <td>41.809090</td>\n",
              "    </tr>\n",
              "    <tr>\n",
              "      <th>8</th>\n",
              "      <td>MeshVolume</td>\n",
              "      <td>40336.416667</td>\n",
              "      <td>15037.291667</td>\n",
              "    </tr>\n",
              "    <tr>\n",
              "      <th>9</th>\n",
              "      <td>MinorAxisLength</td>\n",
              "      <td>44.753481</td>\n",
              "      <td>26.883349</td>\n",
              "    </tr>\n",
              "    <tr>\n",
              "      <th>10</th>\n",
              "      <td>Sphericity</td>\n",
              "      <td>0.203289</td>\n",
              "      <td>0.764871</td>\n",
              "    </tr>\n",
              "    <tr>\n",
              "      <th>11</th>\n",
              "      <td>SurfaceArea</td>\n",
              "      <td>27979.168770</td>\n",
              "      <td>3851.907276</td>\n",
              "    </tr>\n",
              "    <tr>\n",
              "      <th>12</th>\n",
              "      <td>SurfaceVolumeRatio</td>\n",
              "      <td>0.693645</td>\n",
              "      <td>0.256157</td>\n",
              "    </tr>\n",
              "    <tr>\n",
              "      <th>13</th>\n",
              "      <td>VoxelVolume</td>\n",
              "      <td>40108.000000</td>\n",
              "      <td>15090.000000</td>\n",
              "    </tr>\n",
              "  </tbody>\n",
              "</table>\n",
              "</div>"
            ],
            "text/plain": [
              "               feature_name  Brats18_CBICA_ASA_1  Brats18_TCIA04_192_1\n",
              "0                Elongation             0.602204              0.770123\n",
              "1                  Flatness             0.481350              0.706205\n",
              "2           LeastAxisLength            35.772041             24.652105\n",
              "3           MajorAxisLength            74.316139             34.907843\n",
              "4   Maximum2DDiameterColumn            58.600341             40.360872\n",
              "5      Maximum2DDiameterRow            66.573268             38.013156\n",
              "6    Maximum2DDiameterSlice            67.082039             33.060551\n",
              "7         Maximum3DDiameter            86.313383             41.809090\n",
              "8                MeshVolume         40336.416667          15037.291667\n",
              "9           MinorAxisLength            44.753481             26.883349\n",
              "10               Sphericity             0.203289              0.764871\n",
              "11              SurfaceArea         27979.168770           3851.907276\n",
              "12       SurfaceVolumeRatio             0.693645              0.256157\n",
              "13              VoxelVolume         40108.000000          15090.000000"
            ]
          },
          "metadata": {},
          "execution_count": 35
        }
      ]
    },
    {
      "cell_type": "code",
      "metadata": {
        "id": "otgg9R6GoMbA"
      },
      "source": [
        "T.to_csv(os.path.join(path0,'radiomics_features.csv'))"
      ],
      "execution_count": 36,
      "outputs": []
    },
    {
      "cell_type": "code",
      "metadata": {
        "id": "7Ewf_HxapxWR"
      },
      "source": [
        ""
      ],
      "execution_count": null,
      "outputs": []
    }
  ]
}