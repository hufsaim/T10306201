{
  "nbformat": 4,
  "nbformat_minor": 0,
  "metadata": {
    "colab": {
      "provenance": [],
      "collapsed_sections": [],
      "authorship_tag": "ABX9TyMN2u9rkfknRoaBylKZ8c6N",
      "include_colab_link": true
    },
    "kernelspec": {
      "name": "python3",
      "display_name": "Python 3"
    },
    "language_info": {
      "name": "python"
    }
  },
  "cells": [
    {
      "cell_type": "markdown",
      "metadata": {
        "id": "view-in-github",
        "colab_type": "text"
      },
      "source": [
        "<a href=\"https://colab.research.google.com/github/hufsaim/T10306201/blob/master/notebook_2022/Lab05.ipynb\" target=\"_parent\"><img src=\"https://colab.research.google.com/assets/colab-badge.svg\" alt=\"Open In Colab\"/></a>"
      ]
    },
    {
      "cell_type": "code",
      "execution_count": 2,
      "metadata": {
        "colab": {
          "base_uri": "https://localhost:8080/"
        },
        "id": "2tXgH81P5O2T",
        "outputId": "6e16cd63-7b73-4be3-956e-f64aef056d59"
      },
      "outputs": [
        {
          "output_type": "stream",
          "name": "stdout",
          "text": [
            "Looking in indexes: https://pypi.org/simple, https://us-python.pkg.dev/colab-wheels/public/simple/\n",
            "Collecting pyradiomics\n",
            "  Downloading pyradiomics-3.0.1-cp37-cp37m-manylinux1_x86_64.whl (188 kB)\n",
            "\u001b[K     |████████████████████████████████| 188 kB 5.9 MB/s \n",
            "\u001b[?25hCollecting SimpleITK>=0.9.1\n",
            "  Downloading SimpleITK-2.2.0-cp37-cp37m-manylinux_2_17_x86_64.manylinux2014_x86_64.whl (52.8 MB)\n",
            "\u001b[K     |████████████████████████████████| 52.8 MB 2.3 MB/s \n",
            "\u001b[?25hCollecting pykwalify>=1.6.0\n",
            "  Downloading pykwalify-1.8.0-py2.py3-none-any.whl (24 kB)\n",
            "Requirement already satisfied: six>=1.10.0 in /usr/local/lib/python3.7/dist-packages (from pyradiomics) (1.15.0)\n",
            "Requirement already satisfied: PyWavelets>=0.4.0 in /usr/local/lib/python3.7/dist-packages (from pyradiomics) (1.3.0)\n",
            "Requirement already satisfied: numpy>=1.9.2 in /usr/local/lib/python3.7/dist-packages (from pyradiomics) (1.21.6)\n",
            "Collecting docopt>=0.6.2\n",
            "  Downloading docopt-0.6.2.tar.gz (25 kB)\n",
            "Requirement already satisfied: python-dateutil>=2.8.0 in /usr/local/lib/python3.7/dist-packages (from pykwalify>=1.6.0->pyradiomics) (2.8.2)\n",
            "Collecting ruamel.yaml>=0.16.0\n",
            "  Downloading ruamel.yaml-0.17.21-py3-none-any.whl (109 kB)\n",
            "\u001b[K     |████████████████████████████████| 109 kB 49.5 MB/s \n",
            "\u001b[?25hCollecting ruamel.yaml.clib>=0.2.6\n",
            "  Downloading ruamel.yaml.clib-0.2.7-cp37-cp37m-manylinux_2_17_x86_64.manylinux2014_x86_64.manylinux_2_24_x86_64.whl (500 kB)\n",
            "\u001b[K     |████████████████████████████████| 500 kB 42.6 MB/s \n",
            "\u001b[?25hBuilding wheels for collected packages: docopt\n",
            "  Building wheel for docopt (setup.py) ... \u001b[?25l\u001b[?25hdone\n",
            "  Created wheel for docopt: filename=docopt-0.6.2-py2.py3-none-any.whl size=13723 sha256=c9aa767a1a1916ca67ccf6cecc62fc37c12bedaf4451e905a586b34c1c36955c\n",
            "  Stored in directory: /root/.cache/pip/wheels/72/b0/3f/1d95f96ff986c7dfffe46ce2be4062f38ebd04b506c77c81b9\n",
            "Successfully built docopt\n",
            "Installing collected packages: ruamel.yaml.clib, ruamel.yaml, docopt, SimpleITK, pykwalify, pyradiomics\n",
            "Successfully installed SimpleITK-2.2.0 docopt-0.6.2 pykwalify-1.8.0 pyradiomics-3.0.1 ruamel.yaml-0.17.21 ruamel.yaml.clib-0.2.7\n"
          ]
        }
      ],
      "source": [
        "!python -m pip install pyradiomics"
      ]
    },
    {
      "cell_type": "code",
      "source": [
        "import os\n",
        "import glob\n",
        "import matplotlib.pyplot as plt\n",
        "import SimpleITK as sitk"
      ],
      "metadata": {
        "id": "1mEPGm0Z6nqQ"
      },
      "execution_count": 3,
      "outputs": []
    },
    {
      "cell_type": "code",
      "source": [
        "plist = glob.glob('/content/Brats18*seg.nii.gz')\n",
        "print(plist)"
      ],
      "metadata": {
        "colab": {
          "base_uri": "https://localhost:8080/"
        },
        "id": "yMte4J0Z7Bxl",
        "outputId": "b028ed56-8422-45e3-a1ba-1a267b9b65b2"
      },
      "execution_count": 4,
      "outputs": [
        {
          "output_type": "stream",
          "name": "stdout",
          "text": [
            "['/content/Brats18_2013_28_1_seg.nii.gz']\n"
          ]
        }
      ]
    },
    {
      "cell_type": "code",
      "source": [
        "plist_img = glob.glob('/content/Brats18*t1ce.nii.gz')\n",
        "print(plist_img)"
      ],
      "metadata": {
        "colab": {
          "base_uri": "https://localhost:8080/"
        },
        "id": "7x7WMrRD8tdy",
        "outputId": "da271f4a-874b-4486-b764-251a044cb660"
      },
      "execution_count": 5,
      "outputs": [
        {
          "output_type": "stream",
          "name": "stdout",
          "text": [
            "['/content/Brats18_2013_28_1_t1ce.nii.gz']\n"
          ]
        }
      ]
    },
    {
      "cell_type": "code",
      "source": [
        "import nibabel as nib"
      ],
      "metadata": {
        "id": "kzX7scnf9J95"
      },
      "execution_count": 6,
      "outputs": []
    },
    {
      "cell_type": "code",
      "source": [
        "n = 0\n",
        "img = nib.load(plist_img[n])\n",
        "seg = nib.load(plist[n])\n",
        "#print(img)"
      ],
      "metadata": {
        "id": "YRuU5xyE9VuG"
      },
      "execution_count": 8,
      "outputs": []
    },
    {
      "cell_type": "code",
      "source": [
        "I = img.get_fdata()\n",
        "seg = seg.get_fdata()\n",
        "print(seg.shape)"
      ],
      "metadata": {
        "colab": {
          "base_uri": "https://localhost:8080/"
        },
        "id": "kUbM9LSn9elM",
        "outputId": "71b5961b-70c2-46a4-e062-304323d1d038"
      },
      "execution_count": 9,
      "outputs": [
        {
          "output_type": "stream",
          "name": "stdout",
          "text": [
            "(240, 240, 155)\n"
          ]
        }
      ]
    },
    {
      "cell_type": "code",
      "source": [
        "plt.subplot(122)\n",
        "plt.imshow(seg[:,:,64],cmap='jet',interpolation='nearest')\n",
        "plt.subplot(121)\n",
        "plt.imshow(I[:,:,64],cmap='gray',interpolation='nearest')"
      ],
      "metadata": {
        "colab": {
          "base_uri": "https://localhost:8080/",
          "height": 222
        },
        "id": "ThtSxcUZ9_yH",
        "outputId": "924cc076-e390-4dbe-869c-09ddc08c6879"
      },
      "execution_count": 11,
      "outputs": [
        {
          "output_type": "execute_result",
          "data": {
            "text/plain": [
              "<matplotlib.image.AxesImage at 0x7efccad90d10>"
            ]
          },
          "metadata": {},
          "execution_count": 11
        },
        {
          "output_type": "display_data",
          "data": {
            "text/plain": [
              "<Figure size 432x288 with 2 Axes>"
            ],
            "image/png": "[encoded data removed]"
          },
          "metadata": {
            "needs_background": "light"
          }
        }
      ]
    },
    {
      "cell_type": "markdown",
      "source": [
        "### Feature extraction using PyRadiomics\n",
        "- numpy arrays로 정의된 image, segmentation 이용."
      ],
      "metadata": {
        "id": "NCpStNj-D4pU"
      }
    },
    {
      "cell_type": "code",
      "source": [
        "import radiomics\n",
        "from radiomics import featureextractor"
      ],
      "metadata": {
        "id": "Q_cLJGE4BFtI"
      },
      "execution_count": 12,
      "outputs": []
    },
    {
      "cell_type": "code",
      "source": [
        "# First define the settings\n",
        "settings = {}\n",
        "settings['binWidth'] = 20\n",
        "settings['sigma'] = [1]\n",
        "settings['normalize']=True\n",
        "settings['geometryTolerance']=1\n",
        "# Instantiate the extractor\n",
        "extractor = featureextractor.RadiomicsFeatureExtractor(**settings)  # ** 'unpacks' the dictionary in the function call\n",
        "# Enable a filter (in addition to the 'Original' filter already enabled)\n",
        "#extractor.enableImageTypeByName('LoG')\n",
        "#extractor.enableImageTypeByName('Wavelet')\n",
        "print('Extraction parameters:\\n\\t', extractor.settings)\n",
        "print('Enabled filters:\\n\\t', extractor.enabledImagetypes)  # Still the default parameters\n",
        "print('Enabled features:\\n\\t', extractor.enabledFeatures)  # Still the default parameters"
      ],
      "metadata": {
        "colab": {
          "base_uri": "https://localhost:8080/"
        },
        "id": "ag_puIERBOFO",
        "outputId": "14d85084-67d4-4996-b282-ecfc23b64cb2"
      },
      "execution_count": 13,
      "outputs": [
        {
          "output_type": "stream",
          "name": "stderr",
          "text": [
            "INFO:radiomics.featureextractor:No valid config parameter, using defaults: {'minimumROIDimensions': 2, 'minimumROISize': None, 'normalize': False, 'normalizeScale': 1, 'removeOutliers': None, 'resampledPixelSpacing': None, 'interpolator': 'sitkBSpline', 'preCrop': False, 'padDistance': 5, 'distances': [1], 'force2D': False, 'force2Ddimension': 0, 'resegmentRange': None, 'label': 1, 'additionalInfo': True}\n",
            "INFO:radiomics.featureextractor:Enabled image types: {'Original': {}}\n",
            "INFO:radiomics.featureextractor:Enabled features: {'firstorder': [], 'glcm': [], 'gldm': [], 'glrlm': [], 'glszm': [], 'ngtdm': [], 'shape': []}\n",
            "INFO:radiomics.featureextractor:Applying custom setting overrides: {'binWidth': 20, 'sigma': [1], 'normalize': True, 'geometryTolerance': 1}\n"
          ]
        },
        {
          "output_type": "stream",
          "name": "stdout",
          "text": [
            "Extraction parameters:\n",
            "\t {'minimumROIDimensions': 2, 'minimumROISize': None, 'normalize': True, 'normalizeScale': 1, 'removeOutliers': None, 'resampledPixelSpacing': None, 'interpolator': 'sitkBSpline', 'preCrop': False, 'padDistance': 5, 'distances': [1], 'force2D': False, 'force2Ddimension': 0, 'resegmentRange': None, 'label': 1, 'additionalInfo': True, 'binWidth': 20, 'sigma': [1], 'geometryTolerance': 1}\n",
            "Enabled filters:\n",
            "\t {'Original': {}}\n",
            "Enabled features:\n",
            "\t {'firstorder': [], 'glcm': [], 'gldm': [], 'glrlm': [], 'glszm': [], 'ngtdm': [], 'shape': []}\n"
          ]
        }
      ]
    },
    {
      "cell_type": "code",
      "source": [
        "image = sitk.GetImageFromArray(I)\n",
        "mask = sitk.GetImageFromArray(seg)"
      ],
      "metadata": {
        "id": "I5NHAZCCCt_M"
      },
      "execution_count": 14,
      "outputs": []
    },
    {
      "cell_type": "code",
      "source": [
        "features = extractor.execute(image,mask)"
      ],
      "metadata": {
        "colab": {
          "base_uri": "https://localhost:8080/"
        },
        "id": "4u7MBQ_fC7ok",
        "outputId": "0637bde5-9b34-4d7a-ccda-7195d1f8fa10"
      },
      "execution_count": 15,
      "outputs": [
        {
          "output_type": "stream",
          "name": "stderr",
          "text": [
            "INFO:radiomics.featureextractor:Calculating features with label: 1\n",
            "INFO:radiomics.featureextractor:Loading image and mask\n",
            "INFO:radiomics.featureextractor:Computing shape\n",
            "INFO:radiomics.featureextractor:Adding image type \"Original\" with custom settings: {}\n",
            "INFO:radiomics.featureextractor:Calculating features for original image\n",
            "INFO:radiomics.featureextractor:Computing firstorder\n",
            "INFO:radiomics.featureextractor:Computing glcm\n",
            "GLCM is symmetrical, therefore Sum Average = 2 * Joint Average, only 1 needs to be calculated\n",
            "WARNING:radiomics.glcm:GLCM is symmetrical, therefore Sum Average = 2 * Joint Average, only 1 needs to be calculated\n",
            "INFO:radiomics.featureextractor:Computing gldm\n",
            "INFO:radiomics.featureextractor:Computing glrlm\n",
            "INFO:radiomics.featureextractor:Computing glszm\n",
            "INFO:radiomics.featureextractor:Computing ngtdm\n"
          ]
        }
      ]
    },
    {
      "cell_type": "code",
      "source": [
        "feature_names = list((filter(lambda k: k.startswith(\"original_\"),features)))\n",
        "print(feature_names)"
      ],
      "metadata": {
        "colab": {
          "base_uri": "https://localhost:8080/"
        },
        "id": "yKSJCm9iC_cL",
        "outputId": "0ca3e128-4ff6-417a-b007-92979936708a"
      },
      "execution_count": 16,
      "outputs": [
        {
          "output_type": "stream",
          "name": "stdout",
          "text": [
            "['original_shape_Elongation', 'original_shape_Flatness', 'original_shape_LeastAxisLength', 'original_shape_MajorAxisLength', 'original_shape_Maximum2DDiameterColumn', 'original_shape_Maximum2DDiameterRow', 'original_shape_Maximum2DDiameterSlice', 'original_shape_Maximum3DDiameter', 'original_shape_MeshVolume', 'original_shape_MinorAxisLength', 'original_shape_Sphericity', 'original_shape_SurfaceArea', 'original_shape_SurfaceVolumeRatio', 'original_shape_VoxelVolume', 'original_firstorder_10Percentile', 'original_firstorder_90Percentile', 'original_firstorder_Energy', 'original_firstorder_Entropy', 'original_firstorder_InterquartileRange', 'original_firstorder_Kurtosis', 'original_firstorder_Maximum', 'original_firstorder_MeanAbsoluteDeviation', 'original_firstorder_Mean', 'original_firstorder_Median', 'original_firstorder_Minimum', 'original_firstorder_Range', 'original_firstorder_RobustMeanAbsoluteDeviation', 'original_firstorder_RootMeanSquared', 'original_firstorder_Skewness', 'original_firstorder_TotalEnergy', 'original_firstorder_Uniformity', 'original_firstorder_Variance', 'original_glcm_Autocorrelation', 'original_glcm_ClusterProminence', 'original_glcm_ClusterShade', 'original_glcm_ClusterTendency', 'original_glcm_Contrast', 'original_glcm_Correlation', 'original_glcm_DifferenceAverage', 'original_glcm_DifferenceEntropy', 'original_glcm_DifferenceVariance', 'original_glcm_Id', 'original_glcm_Idm', 'original_glcm_Idmn', 'original_glcm_Idn', 'original_glcm_Imc1', 'original_glcm_Imc2', 'original_glcm_InverseVariance', 'original_glcm_JointAverage', 'original_glcm_JointEnergy', 'original_glcm_JointEntropy', 'original_glcm_MCC', 'original_glcm_MaximumProbability', 'original_glcm_SumAverage', 'original_glcm_SumEntropy', 'original_glcm_SumSquares', 'original_gldm_DependenceEntropy', 'original_gldm_DependenceNonUniformity', 'original_gldm_DependenceNonUniformityNormalized', 'original_gldm_DependenceVariance', 'original_gldm_GrayLevelNonUniformity', 'original_gldm_GrayLevelVariance', 'original_gldm_HighGrayLevelEmphasis', 'original_gldm_LargeDependenceEmphasis', 'original_gldm_LargeDependenceHighGrayLevelEmphasis', 'original_gldm_LargeDependenceLowGrayLevelEmphasis', 'original_gldm_LowGrayLevelEmphasis', 'original_gldm_SmallDependenceEmphasis', 'original_gldm_SmallDependenceHighGrayLevelEmphasis', 'original_gldm_SmallDependenceLowGrayLevelEmphasis', 'original_glrlm_GrayLevelNonUniformity', 'original_glrlm_GrayLevelNonUniformityNormalized', 'original_glrlm_GrayLevelVariance', 'original_glrlm_HighGrayLevelRunEmphasis', 'original_glrlm_LongRunEmphasis', 'original_glrlm_LongRunHighGrayLevelEmphasis', 'original_glrlm_LongRunLowGrayLevelEmphasis', 'original_glrlm_LowGrayLevelRunEmphasis', 'original_glrlm_RunEntropy', 'original_glrlm_RunLengthNonUniformity', 'original_glrlm_RunLengthNonUniformityNormalized', 'original_glrlm_RunPercentage', 'original_glrlm_RunVariance', 'original_glrlm_ShortRunEmphasis', 'original_glrlm_ShortRunHighGrayLevelEmphasis', 'original_glrlm_ShortRunLowGrayLevelEmphasis', 'original_glszm_GrayLevelNonUniformity', 'original_glszm_GrayLevelNonUniformityNormalized', 'original_glszm_GrayLevelVariance', 'original_glszm_HighGrayLevelZoneEmphasis', 'original_glszm_LargeAreaEmphasis', 'original_glszm_LargeAreaHighGrayLevelEmphasis', 'original_glszm_LargeAreaLowGrayLevelEmphasis', 'original_glszm_LowGrayLevelZoneEmphasis', 'original_glszm_SizeZoneNonUniformity', 'original_glszm_SizeZoneNonUniformityNormalized', 'original_glszm_SmallAreaEmphasis', 'original_glszm_SmallAreaHighGrayLevelEmphasis', 'original_glszm_SmallAreaLowGrayLevelEmphasis', 'original_glszm_ZoneEntropy', 'original_glszm_ZonePercentage', 'original_glszm_ZoneVariance', 'original_ngtdm_Busyness', 'original_ngtdm_Coarseness', 'original_ngtdm_Complexity', 'original_ngtdm_Contrast', 'original_ngtdm_Strength']\n"
          ]
        }
      ]
    },
    {
      "cell_type": "code",
      "source": [
        "for j in range(len(feature_names)):\n",
        "  print(j,feature_names[j],features[feature_names[j]])"
      ],
      "metadata": {
        "colab": {
          "base_uri": "https://localhost:8080/"
        },
        "id": "BRbfrtXxDMha",
        "outputId": "f196a6fa-8a17-455f-9e0b-d376eaf78daa"
      },
      "execution_count": 17,
      "outputs": [
        {
          "output_type": "stream",
          "name": "stdout",
          "text": [
            "0 original_shape_Elongation 0.7533119796040897\n",
            "1 original_shape_Flatness 0.6443580138680817\n",
            "2 original_shape_LeastAxisLength 37.57584292124421\n",
            "3 original_shape_MajorAxisLength 58.31516348446789\n",
            "4 original_shape_Maximum2DDiameterColumn 52.40229002629561\n",
            "5 original_shape_Maximum2DDiameterRow 62.297672508690084\n",
            "6 original_shape_Maximum2DDiameterSlice 66.48308055437865\n",
            "7 original_shape_Maximum3DDiameter 70.68946173228369\n",
            "8 original_shape_MeshVolume 50105.125\n",
            "9 original_shape_MinorAxisLength 43.92951124542063\n",
            "10 original_shape_Sphericity 0.4696461162538371\n",
            "11 original_shape_SurfaceArea 13994.847030953128\n",
            "12 original_shape_SurfaceVolumeRatio 0.2793096919916501\n",
            "13 original_shape_VoxelVolume 50041.0\n",
            "14 original_firstorder_10Percentile 1.3031418316020564\n",
            "15 original_firstorder_90Percentile 2.159491281085587\n",
            "16 original_firstorder_Energy 151226.8685396885\n",
            "17 original_firstorder_Entropy 0.0014719447920251048\n",
            "18 original_firstorder_InterquartileRange 0.4281747247417651\n",
            "19 original_firstorder_Kurtosis 3.8772234913625785\n",
            "20 original_firstorder_Maximum 4.8891051513143395\n",
            "21 original_firstorder_MeanAbsoluteDeviation 0.2561271159627527\n",
            "22 original_firstorder_Mean 1.7080311705293072\n",
            "23 original_firstorder_Median 1.6777947157511008\n",
            "24 original_firstorder_Minimum -0.3025133861795626\n",
            "25 original_firstorder_Range 5.191618537493902\n",
            "26 original_firstorder_RobustMeanAbsoluteDeviation 0.19025795389483605\n",
            "27 original_firstorder_RootMeanSquared 1.73840711059935\n",
            "28 original_firstorder_Skewness 0.4316165193251199\n",
            "29 original_firstorder_TotalEnergy 151226.8685396885\n",
            "30 original_firstorder_Uniformity 0.9998001838328705\n",
            "31 original_firstorder_Variance 0.10468880268266538\n",
            "32 original_glcm_Autocorrelation 3.9997801214844677\n",
            "33 original_glcm_ClusterProminence 0.00015896826790279958\n",
            "34 original_glcm_ClusterShade -0.0001319047223415812\n",
            "35 original_glcm_ClusterTendency 0.0001183904795261743\n",
            "36 original_glcm_Contrast 0.00010486097634251844\n",
            "37 original_glcm_Correlation 0.05122961787194172\n",
            "38 original_glcm_DifferenceAverage 0.00010486097634251844\n",
            "39 original_glcm_DifferenceEntropy 0.001536781178662169\n",
            "40 original_glcm_DifferenceVariance 0.00010484988607228083\n",
            "41 original_glcm_Id 0.9999475695118287\n",
            "42 original_glcm_Idm 0.9999475695118287\n",
            "43 original_glcm_Idmn 0.9999790278047315\n",
            "44 original_glcm_Idn 0.9999650463412192\n",
            "45 original_glcm_Imc1 -0.038157106018712965\n",
            "46 original_glcm_Imc2 0.0035238241220403926\n",
            "47 original_glcm_InverseVariance 0.00010486097634251844\n",
            "48 original_glcm_JointAverage 1.9999441839908796\n",
            "49 original_glcm_JointEnergy 0.9997835243859933\n",
            "50 original_glcm_JointEntropy 0.0016989053661225896\n",
            "51 original_glcm_MCC 0.05132094040658237\n",
            "52 original_glcm_MaximumProbability 0.9998917535027083\n",
            "53 original_glcm_SumAverage 3.999888367981759\n",
            "54 original_glcm_SumEntropy 0.001594044389780391\n",
            "55 original_glcm_SumSquares 5.581286396717318e-05\n",
            "56 original_gldm_DependenceEntropy 2.3409647149613075\n",
            "57 original_gldm_DependenceNonUniformity 20895.627645330827\n",
            "58 original_gldm_DependenceNonUniformityNormalized 0.4175701453873989\n",
            "59 original_gldm_DependenceVariance 16.487684244320427\n",
            "60 original_gldm_GrayLevelNonUniformity 50031.00099918067\n",
            "61 original_gldm_GrayLevelVariance 9.990808356475842e-05\n",
            "62 original_gldm_HighGrayLevelEmphasis 3.9997002457984454\n",
            "63 original_gldm_LargeDependenceEmphasis 623.767730461022\n",
            "64 original_gldm_LargeDependenceHighGrayLevelEmphasis 2495.069782778122\n",
            "65 original_gldm_LargeDependenceLowGrayLevelEmphasis 155.94221738174696\n",
            "66 original_gldm_LowGrayLevelEmphasis 0.2500749385503887\n",
            "67 original_gldm_SmallDependenceEmphasis 0.001997609085594777\n",
            "68 original_gldm_SmallDependenceHighGrayLevelEmphasis 0.007833898037122752\n",
            "69 original_gldm_SmallDependenceLowGrayLevelEmphasis 0.0005385368477127833\n",
            "70 original_glrlm_GrayLevelNonUniformity 4526.626356609361\n",
            "71 original_glrlm_GrayLevelNonUniformityNormalized 0.9977535801445637\n",
            "72 original_glrlm_GrayLevelVariance 0.0011232099277180606\n",
            "73 original_glrlm_HighGrayLevelRunEmphasis 3.9966263117129377\n",
            "74 original_glrlm_LongRunEmphasis 221.47107252911903\n",
            "75 original_glrlm_LongRunHighGrayLevelEmphasis 885.8806085903366\n",
            "76 original_glrlm_LongRunLowGrayLevelEmphasis 55.368688513814625\n",
            "77 original_glrlm_LowGrayLevelRunEmphasis 0.25084342207176547\n",
            "78 original_glrlm_RunEntropy 4.740296559602616\n",
            "79 original_glrlm_RunLengthNonUniformity 217.10668202923304\n",
            "80 original_glrlm_RunLengthNonUniformityNormalized 0.04585593942482676\n",
            "81 original_glrlm_RunPercentage 0.09065181935428333\n",
            "82 original_glrlm_RunVariance 78.9683640140558\n",
            "83 original_glrlm_ShortRunEmphasis 0.11003003449134924\n",
            "84 original_glrlm_ShortRunHighGrayLevelEmphasis 0.4368234091414436\n",
            "85 original_glrlm_ShortRunLowGrayLevelEmphasis 0.028331690828825643\n",
            "86 original_glszm_GrayLevelNonUniformity 2.6\n",
            "87 original_glszm_GrayLevelNonUniformityNormalized 0.52\n",
            "88 original_glszm_GrayLevelVariance 0.24\n",
            "89 original_glszm_HighGrayLevelZoneEmphasis 2.2\n",
            "90 original_glszm_LargeAreaEmphasis 500700247.4\n",
            "91 original_glszm_LargeAreaHighGrayLevelEmphasis 2002800983.0\n",
            "92 original_glszm_LargeAreaLowGrayLevelEmphasis 125175063.5\n",
            "93 original_glszm_LowGrayLevelZoneEmphasis 0.7\n",
            "94 original_glszm_SizeZoneNonUniformity 2.2\n",
            "95 original_glszm_SizeZoneNonUniformityNormalized 0.44\n",
            "96 original_glszm_SmallAreaEmphasis 0.6222222223021103\n",
            "97 original_glszm_SmallAreaHighGrayLevelEmphasis 1.2222222225417745\n",
            "98 original_glszm_SmallAreaLowGrayLevelEmphasis 0.47222222224219423\n",
            "99 original_glszm_ZoneEntropy 1.9219280948873612\n",
            "100 original_glszm_ZonePercentage 9.991806718490838e-05\n",
            "101 original_glszm_ZoneVariance 400536180.1600001\n",
            "102 original_ngtdm_Busyness 0.798222117124707\n",
            "103 original_ngtdm_Coarseness 0.3132429802778302\n",
            "104 original_ngtdm_Complexity 0.00012759177185236363\n",
            "105 original_ngtdm_Contrast 1.576367046553807e-08\n",
            "106 original_ngtdm_Strength 0.25330706139189085\n"
          ]
        }
      ]
    },
    {
      "cell_type": "code",
      "source": [],
      "metadata": {
        "id": "ZjIxOqBADglu"
      },
      "execution_count": null,
      "outputs": []
    }
  ]
}