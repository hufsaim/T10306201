{
  "nbformat": 4,
  "nbformat_minor": 0,
  "metadata": {
    "language_info": {
      "codemirror_mode": {
        "name": "ipython",
        "version": 3
      },
      "file_extension": ".py",
      "mimetype": "text/x-python",
      "name": "python",
      "nbconvert_exporter": "python",
      "pygments_lexer": "ipython3",
      "version": "3.7.3-final"
    },
    "orig_nbformat": 2,
    "kernelspec": {
      "name": "python_defaultSpec_1598540648670",
      "display_name": "Python 3.7.3 64-bit ('base': conda)"
    },
    "colab": {
      "name": "lab00.ipynb",
      "provenance": []
    }
  },
  "cells": [
    {
      "cell_type": "markdown",
      "metadata": {
        "id": "G_E1Cpj5dJQU",
        "colab_type": "text"
      },
      "source": [
        "# Lab00. 파이썬 맛보기\n",
        "- 첫 실습은 기초적인 파이썬 코드를 google colab(또는 jupyter notebook)을 통해 연습해 보는 것입니다.\n",
        "- notebook(ipynb)파일은 크게 코드를 담고 있는 cell과 markdown을 담고 있는 cell로 나누어 볼 수 있습니다. \n",
        "- 코드를 담고 있는 cell은 실행을 하여 연산을 하거나 새로운 변수 또는 함수 등을 정의할 수 있습니다. \n",
        "- markdown을 담고 있는 cell은 실행을 하여 스타일을 적용시킬 수 있습니다.\n",
        "- 지금 이 cell은 markdown을 담고 있고, 바로 아래는 python code를 담고 있는 cell입니다.\n",
        "- cell을 하나씩 실행시켜 보면서 파이썬이 아직 익숙하지 않은 학생들은 파이썬 프로그래밍에 대한 감을 익히도록 합니다. cell 안에 있는 내용을 다양하게 수정하여 결과를 print로 출력하여 이해를 높이도록 합시다."
      ]
    },
    {
      "cell_type": "code",
      "metadata": {
        "tags": [],
        "id": "RqSpR-rMdJQV",
        "colab_type": "code",
        "colab": {
          "base_uri": "https://localhost:8080/",
          "height": 51
        },
        "outputId": "7bfdc7cd-5b3e-4f63-fc66-f79d661711ce"
      },
      "source": [
        "x = 2\n",
        "y = 3.0\n",
        "\n",
        "print(f'x = {x}, type of x = {type(x)}')\n",
        "print(f'y = {y}, type of y = {type(y)}')"
      ],
      "execution_count": 1,
      "outputs": [
        {
          "output_type": "stream",
          "text": [
            "x = 2, type of x = <class 'int'>\n",
            "y = 3.0, type of y = <class 'float'>\n"
          ],
          "name": "stdout"
        }
      ]
    },
    {
      "cell_type": "markdown",
      "metadata": {
        "id": "vwpkvhk9dJQa",
        "colab_type": "text"
      },
      "source": [
        "## 문자열 포맷팅\n",
        "- 문자열 포맷팅은 결과를 출력하거나 자료를 다룰 때에 매우 유용한 기능입니다. \n",
        "- 파이썬에는 c언어에서와 비슷한 문자열 포맷팅방법 등 다양한 방법이 존재합니다.\n",
        "- 파이썬 3.6부터 f로 시작하는 문자열 포맷팅이 도입되었는데 {}에 변수나 연산을 넣는 것으로 포맷팅이 가능하여 가독성이 좋고 사용이 쉽습니다."
      ]
    },
    {
      "cell_type": "code",
      "metadata": {
        "tags": [],
        "id": "MG_XW-u-dJQb",
        "colab_type": "code",
        "colab": {
          "base_uri": "https://localhost:8080/",
          "height": 68
        },
        "outputId": "c5240bbb-2a60-47ab-8b4f-c64cb6283610"
      },
      "source": [
        "yy = 2020\n",
        "mm = 9\n",
        "dd = 1\n",
        "x = f'오늘은 {yy}년 {mm}월 {dd}일 입니다.'\n",
        "\n",
        "print(x)\n",
        "print(f'x의 변수형은 {type(x)}입니다.')\n",
        "print(f'x의 길이는 {len(x)}입니다')"
      ],
      "execution_count": 2,
      "outputs": [
        {
          "output_type": "stream",
          "text": [
            "오늘은 2020년 9월 1일 입니다.\n",
            "x의 변수형은 <class 'str'>입니다.\n",
            "x의 길이는 20입니다\n"
          ],
          "name": "stdout"
        }
      ]
    },
    {
      "cell_type": "code",
      "metadata": {
        "tags": [],
        "id": "B8p2jBmmdJQe",
        "colab_type": "code",
        "colab": {
          "base_uri": "https://localhost:8080/",
          "height": 34
        },
        "outputId": "e86000a7-11c1-4b55-972d-9feb66459422"
      },
      "source": [
        "from datetime import date\n",
        "today = f'오늘의 날짜: {date.today()}'\n",
        "print(today)"
      ],
      "execution_count": 3,
      "outputs": [
        {
          "output_type": "stream",
          "text": [
            "오늘의 날짜: 2020-08-27\n"
          ],
          "name": "stdout"
        }
      ]
    },
    {
      "cell_type": "code",
      "metadata": {
        "tags": [],
        "id": "bscdOxjvdJQh",
        "colab_type": "code",
        "colab": {
          "base_uri": "https://localhost:8080/",
          "height": 34
        },
        "outputId": "f150a950-ea40-49d5-e8ad-145a7119a986"
      },
      "source": [
        "today_eng = today.replace('오늘의 날짜','date of today')\n",
        "print(today_eng)"
      ],
      "execution_count": 4,
      "outputs": [
        {
          "output_type": "stream",
          "text": [
            "date of today: 2020-08-27\n"
          ],
          "name": "stdout"
        }
      ]
    },
    {
      "cell_type": "markdown",
      "metadata": {
        "id": "BThXqRTRdJQm",
        "colab_type": "text"
      },
      "source": [
        "### 리스트와 인덱싱\n",
        "리스트를 만들고 다루는 것은 매우 중요합니다. \n",
        "리스트를 잘 다루기 위해서는 인덱싱을 이해해야 합니다."
      ]
    },
    {
      "cell_type": "code",
      "metadata": {
        "tags": [],
        "id": "CW2XfxaodJQj",
        "colab_type": "code",
        "colab": {
          "base_uri": "https://localhost:8080/",
          "height": 34
        },
        "outputId": "407b4275-a7b8-4dbc-f55e-fece6d39aa48"
      },
      "source": [
        "x = [1,2,3,4,5,6,7,8]\n",
        "print(f'x = {x}')"
      ],
      "execution_count": 5,
      "outputs": [
        {
          "output_type": "stream",
          "text": [
            "x = [1, 2, 3, 4, 5, 6, 7, 8]\n"
          ],
          "name": "stdout"
        }
      ]
    },
    {
      "cell_type": "code",
      "metadata": {
        "tags": [],
        "id": "utZF1oHGdJQn",
        "colab_type": "code",
        "colab": {
          "base_uri": "https://localhost:8080/",
          "height": 85
        },
        "outputId": "1c236f44-6fc4-4c93-9f5a-24206fccc9a4"
      },
      "source": [
        "x = [0,1,2,3]\n",
        "print(x)\n",
        "x.append(7)\n",
        "print(x)\n",
        "x.pop()\n",
        "print(x)\n",
        "x.pop(1)\n",
        "print(x)"
      ],
      "execution_count": 6,
      "outputs": [
        {
          "output_type": "stream",
          "text": [
            "[0, 1, 2, 3]\n",
            "[0, 1, 2, 3, 7]\n",
            "[0, 1, 2, 3]\n",
            "[0, 2, 3]\n"
          ],
          "name": "stdout"
        }
      ]
    },
    {
      "cell_type": "code",
      "metadata": {
        "tags": [],
        "id": "gH9ehYnGdJQp",
        "colab_type": "code",
        "colab": {
          "base_uri": "https://localhost:8080/",
          "height": 153
        },
        "outputId": "8fb923a0-6b4d-4e26-8986-b431f196b7b7"
      },
      "source": [
        "x=[1,2,3,4,5,6,7,8,9,10,11,12]\n",
        "print(x)\n",
        "print(x[3:5])\n",
        "print(x[4:])\n",
        "print(x[:4])\n",
        "print(x[:])\n",
        "print(x[2::3])\n",
        "print(x[:-3])\n",
        "print(x[1:-1])"
      ],
      "execution_count": 7,
      "outputs": [
        {
          "output_type": "stream",
          "text": [
            "[1, 2, 3, 4, 5, 6, 7, 8, 9, 10, 11, 12]\n",
            "[4, 5]\n",
            "[5, 6, 7, 8, 9, 10, 11, 12]\n",
            "[1, 2, 3, 4]\n",
            "[1, 2, 3, 4, 5, 6, 7, 8, 9, 10, 11, 12]\n",
            "[3, 6, 9, 12]\n",
            "[1, 2, 3, 4, 5, 6, 7, 8, 9]\n",
            "[2, 3, 4, 5, 6, 7, 8, 9, 10, 11]\n"
          ],
          "name": "stdout"
        }
      ]
    },
    {
      "cell_type": "code",
      "metadata": {
        "tags": [],
        "id": "MQDTGxuddJQs",
        "colab_type": "code",
        "colab": {
          "base_uri": "https://localhost:8080/",
          "height": 51
        },
        "outputId": "7809a36f-0b78-4d10-8f68-3b57f4e2b4a2"
      },
      "source": [
        "y = range(8)\n",
        "z = range(3,20,3)\n",
        "\n",
        "print(f'y = {list(y)}')\n",
        "print(f'z = {list(z)}')"
      ],
      "execution_count": 8,
      "outputs": [
        {
          "output_type": "stream",
          "text": [
            "y = [0, 1, 2, 3, 4, 5, 6, 7]\n",
            "z = [3, 6, 9, 12, 15, 18]\n"
          ],
          "name": "stdout"
        }
      ]
    },
    {
      "cell_type": "markdown",
      "metadata": {
        "id": "Y5MKFLWQdJQu",
        "colab_type": "text"
      },
      "source": [
        "### for, if/else가 파이썬에서 어떻게 쓰이는지 알아 봅시다."
      ]
    },
    {
      "cell_type": "code",
      "metadata": {
        "tags": [],
        "id": "J9ANC9LxdJQu",
        "colab_type": "code",
        "colab": {
          "base_uri": "https://localhost:8080/",
          "height": 221
        },
        "outputId": "84ac05e6-6681-4436-a2d4-39d871a8da08"
      },
      "source": [
        "for j in range(12):\n",
        "    print(f'index: {j}')"
      ],
      "execution_count": 9,
      "outputs": [
        {
          "output_type": "stream",
          "text": [
            "index: 0\n",
            "index: 1\n",
            "index: 2\n",
            "index: 3\n",
            "index: 4\n",
            "index: 5\n",
            "index: 6\n",
            "index: 7\n",
            "index: 8\n",
            "index: 9\n",
            "index: 10\n",
            "index: 11\n"
          ],
          "name": "stdout"
        }
      ]
    },
    {
      "cell_type": "code",
      "metadata": {
        "tags": [],
        "id": "ziwprkBAdJQw",
        "colab_type": "code",
        "colab": {
          "base_uri": "https://localhost:8080/",
          "height": 340
        },
        "outputId": "5a5639dc-c9dc-4533-e995-97b483f1d2ba"
      },
      "source": [
        "for x in range(1,20,1):\n",
        "    if x%3==0:\n",
        "        print(f'-')\n",
        "    else:\n",
        "        print(x)"
      ],
      "execution_count": 10,
      "outputs": [
        {
          "output_type": "stream",
          "text": [
            "1\n",
            "2\n",
            "-\n",
            "4\n",
            "5\n",
            "-\n",
            "7\n",
            "8\n",
            "-\n",
            "10\n",
            "11\n",
            "-\n",
            "13\n",
            "14\n",
            "-\n",
            "16\n",
            "17\n",
            "-\n",
            "19\n"
          ],
          "name": "stdout"
        }
      ]
    },
    {
      "cell_type": "markdown",
      "metadata": {
        "id": "qGJFCq7rdJQy",
        "colab_type": "text"
      },
      "source": [
        "# Numpy 맛보기\n",
        "- numpy는 python에서 다차원의 배열과 관련된 연산을 쉽게 처리할 수 있는 여러 기능들을 포함하는 라이브러리입니다.\n",
        "- digital image는 대표적인 다차원 array이므로 numpy를 이용한 연산은 디지털영상처리에서 매우 유용합니다."
      ]
    },
    {
      "cell_type": "code",
      "metadata": {
        "id": "wiJiR28BdJQz",
        "colab_type": "code",
        "colab": {}
      },
      "source": [
        "import numpy as np"
      ],
      "execution_count": 11,
      "outputs": []
    },
    {
      "cell_type": "markdown",
      "metadata": {
        "id": "NueTMtYldJQ1",
        "colab_type": "text"
      },
      "source": [
        "### 1차원, 2차원, 3차원 배열을 만들어 봅니다."
      ]
    },
    {
      "cell_type": "code",
      "metadata": {
        "tags": [],
        "id": "4HulmvLXdJQ1",
        "colab_type": "code",
        "colab": {
          "base_uri": "https://localhost:8080/",
          "height": 51
        },
        "outputId": "bff09b60-dd14-41cc-f7ad-59e8f66d46ba"
      },
      "source": [
        "a=np.array([1,2,3])\n",
        "print(f'a={a}')\n",
        "print(f'shpae of a: {a.shape}')"
      ],
      "execution_count": 12,
      "outputs": [
        {
          "output_type": "stream",
          "text": [
            "a=[1 2 3]\n",
            "shpae of a: (3,)\n"
          ],
          "name": "stdout"
        }
      ]
    },
    {
      "cell_type": "code",
      "metadata": {
        "tags": [],
        "id": "Bjh7HrzVdJQ3",
        "colab_type": "code",
        "colab": {
          "base_uri": "https://localhost:8080/",
          "height": 68
        },
        "outputId": "2ee66d29-2082-426a-f346-dfa778f709ed"
      },
      "source": [
        "b=np.array([[1,2,3],[4,5,6]])\n",
        "print(f'b={b}')\n",
        "print(f'shpae of b: {b.shape}')"
      ],
      "execution_count": 13,
      "outputs": [
        {
          "output_type": "stream",
          "text": [
            "b=[[1 2 3]\n",
            " [4 5 6]]\n",
            "shpae of b: (2, 3)\n"
          ],
          "name": "stdout"
        }
      ]
    },
    {
      "cell_type": "code",
      "metadata": {
        "tags": [],
        "id": "yi678t-1dJQ5",
        "colab_type": "code",
        "colab": {
          "base_uri": "https://localhost:8080/",
          "height": 119
        },
        "outputId": "c2e14622-c769-4b39-a8cf-145e2dec8c81"
      },
      "source": [
        "c=np.array([[[1,2,3],[4,5,6]],[[6,5,4],[3,2,1]]])\n",
        "print(f'c={c}')\n",
        "print(f'shpae of c: {c.shape}')"
      ],
      "execution_count": 14,
      "outputs": [
        {
          "output_type": "stream",
          "text": [
            "c=[[[1 2 3]\n",
            "  [4 5 6]]\n",
            "\n",
            " [[6 5 4]\n",
            "  [3 2 1]]]\n",
            "shpae of c: (2, 2, 3)\n"
          ],
          "name": "stdout"
        }
      ]
    },
    {
      "cell_type": "markdown",
      "metadata": {
        "id": "1AM5sJmJdJQ8",
        "colab_type": "text"
      },
      "source": [
        "### 0으로 이루어진 배열, 1로 이루어진 배열, 랜덤변수로 이루어진 배열을 생성해 봅니다."
      ]
    },
    {
      "cell_type": "code",
      "metadata": {
        "tags": [],
        "id": "j15AutFCdJQ8",
        "colab_type": "code",
        "colab": {
          "base_uri": "https://localhost:8080/",
          "height": 85
        },
        "outputId": "165df7be-e880-4ef6-b939-a5b3d5642f40"
      },
      "source": [
        "a = np.zeros((3,3))\n",
        "print(f'a = {a}')\n",
        "print(f'datatype of a: {a.dtype}')"
      ],
      "execution_count": 15,
      "outputs": [
        {
          "output_type": "stream",
          "text": [
            "a = [[0. 0. 0.]\n",
            " [0. 0. 0.]\n",
            " [0. 0. 0.]]\n",
            "datatype of a: float64\n"
          ],
          "name": "stdout"
        }
      ]
    },
    {
      "cell_type": "code",
      "metadata": {
        "tags": [],
        "id": "_DHDp7HIdJQ-",
        "colab_type": "code",
        "colab": {
          "base_uri": "https://localhost:8080/",
          "height": 68
        },
        "outputId": "f5ed256a-dfc6-4bfd-ceca-50a855a7efe2"
      },
      "source": [
        "b = np.ones((3,3))\n",
        "print(f'b = {b}')"
      ],
      "execution_count": 16,
      "outputs": [
        {
          "output_type": "stream",
          "text": [
            "b = [[1. 1. 1.]\n",
            " [1. 1. 1.]\n",
            " [1. 1. 1.]]\n"
          ],
          "name": "stdout"
        }
      ]
    },
    {
      "cell_type": "code",
      "metadata": {
        "tags": [],
        "id": "MQZfs9K0dJRA",
        "colab_type": "code",
        "colab": {
          "base_uri": "https://localhost:8080/",
          "height": 68
        },
        "outputId": "463b56be-579f-4e9e-99b9-4bcbed2be8e3"
      },
      "source": [
        "c = np.random.random((3,3))\n",
        "print(f'c = {c}')"
      ],
      "execution_count": 17,
      "outputs": [
        {
          "output_type": "stream",
          "text": [
            "c = [[0.22108714 0.28744409 0.76934221]\n",
            " [0.37603652 0.00672383 0.34095507]\n",
            " [0.86873055 0.43415875 0.29515516]]\n"
          ],
          "name": "stdout"
        }
      ]
    },
    {
      "cell_type": "markdown",
      "metadata": {
        "id": "wftQr5y7dJRC",
        "colab_type": "text"
      },
      "source": [
        "### 배열간의 연산을 수행해 봅시다."
      ]
    },
    {
      "cell_type": "code",
      "metadata": {
        "tags": [],
        "id": "bXfhiR8IdJRC",
        "colab_type": "code",
        "colab": {
          "base_uri": "https://localhost:8080/",
          "height": 68
        },
        "outputId": "fb1b0fa1-13c8-4fd2-e60c-947e1b8c25df"
      },
      "source": [
        "print(f'b + c = {b+c}')"
      ],
      "execution_count": 18,
      "outputs": [
        {
          "output_type": "stream",
          "text": [
            "b + c = [[1.22108714 1.28744409 1.76934221]\n",
            " [1.37603652 1.00672383 1.34095507]\n",
            " [1.86873055 1.43415875 1.29515516]]\n"
          ],
          "name": "stdout"
        }
      ]
    },
    {
      "cell_type": "markdown",
      "metadata": {
        "id": "MOlRwU95dJRE",
        "colab_type": "text"
      },
      "source": [
        "### Q. multiply와 dot의 차이는?"
      ]
    },
    {
      "cell_type": "code",
      "metadata": {
        "tags": [],
        "id": "oh2OMjDSdJRE",
        "colab_type": "code",
        "colab": {
          "base_uri": "https://localhost:8080/",
          "height": 119
        },
        "outputId": "7f6eba12-7f9d-4cca-fd25-5363913abbc2"
      },
      "source": [
        "a = [[1,2],[3,4]]\n",
        "print(f'a = {a}')\n",
        "b = [[2,4],[6,8]]\n",
        "print(f'b = {b}')\n",
        "\n",
        "print(f'multiply(a,b) = {np.multiply(a,b)}')\n",
        "print(f'dot(a,b) = {np.dot(a,b)}')"
      ],
      "execution_count": 19,
      "outputs": [
        {
          "output_type": "stream",
          "text": [
            "a = [[1, 2], [3, 4]]\n",
            "b = [[2, 4], [6, 8]]\n",
            "multiply(a,b) = [[ 2  8]\n",
            " [18 32]]\n",
            "dot(a,b) = [[14 20]\n",
            " [30 44]]\n"
          ],
          "name": "stdout"
        }
      ]
    },
    {
      "cell_type": "code",
      "metadata": {
        "id": "_-NdHUQ5dJRG",
        "colab_type": "code",
        "colab": {}
      },
      "source": [
        ""
      ],
      "execution_count": null,
      "outputs": []
    }
  ]
}