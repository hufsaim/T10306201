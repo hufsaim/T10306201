{
 "metadata": {
  "language_info": {
   "codemirror_mode": {
    "name": "ipython",
    "version": 3
   },
   "file_extension": ".py",
   "mimetype": "text/x-python",
   "name": "python",
   "nbconvert_exporter": "python",
   "pygments_lexer": "ipython3",
   "version": "3.7.3-final"
  },
  "orig_nbformat": 2,
  "kernelspec": {
   "name": "python_defaultSpec_1598540648670",
   "display_name": "Python 3.7.3 64-bit ('base': conda)"
  }
 },
 "nbformat": 4,
 "nbformat_minor": 2,
 "cells": [
  {
   "cell_type": "markdown",
   "metadata": {},
   "source": [
    "# Lab00. 파이썬 맛보기\n",
    "- 첫 실습은 기초적인 파이썬 코드를 google colab(또는 jupyter notebook)을 통해 연습해 보는 것입니다.\n",
    "- notebook(ipynb)파일은 크게 코드를 담고 있는 cell과 markdown을 담고 있는 cell로 나누어 볼 수 있습니다. \n",
    "- 코드를 담고 있는 cell은 실행을 하여 연산을 하거나 새로운 변수 또는 함수 등을 정의할 수 있습니다. \n",
    "- markdown을 담고 있는 cell은 실행을 하여 스타일을 적용시킬 수 있습니다.\n",
    "- 지금 이 cell은 markdown을 담고 있고, 바로 아래는 python code를 담고 있는 cell입니다.\n",
    "- cell을 하나씩 실행시켜 보면서 파이썬이 아직 익숙하지 않은 학생들은 파이썬 프로그래밍에 대한 감을 익히도록 합니다. cell 안에 있는 내용을 다양하게 수정하여 결과를 print로 출력하여 이해를 높이도록 합시다."
   ]
  },
  {
   "cell_type": "code",
   "execution_count": 20,
   "metadata": {
    "tags": []
   },
   "outputs": [
    {
     "output_type": "stream",
     "name": "stdout",
     "text": "x = 2, type of x = <class 'int'>\ny = 3.0, type of y = <class 'float'>\n"
    }
   ],
   "source": [
    "x = 2\n",
    "y = 3.0\n",
    "\n",
    "print(f'x = {x}, type of x = {type(x)}')\n",
    "print(f'y = {y}, type of y = {type(y)}')"
   ]
  },
  {
   "cell_type": "markdown",
   "metadata": {},
   "source": [
    "## 문자열 포맷팅\n",
    "- 문자열 포맷팅은 결과를 출력하거나 자료를 다룰 때에 매우 유용한 기능입니다. \n",
    "- 파이썬에는 c언어에서와 비슷한 문자열 포맷팅방법 등 다양한 방법이 존재합니다.\n",
    "- 파이썬 3.6부터 f로 시작하는 문자열 포맷팅이 도입되었는데 {}에 변수나 연산을 넣는 것으로 포맷팅이 가능하여 가독성이 좋고 사용이 쉽습니다."
   ]
  },
  {
   "cell_type": "code",
   "execution_count": 21,
   "metadata": {
    "tags": []
   },
   "outputs": [
    {
     "output_type": "stream",
     "name": "stdout",
     "text": "오늘은 2020년 9월 1일 입니다.\nx의 변수형은 <class 'str'>입니다.\nx의 길이는 20입니다\n"
    }
   ],
   "source": [
    "yy = 2020\n",
    "mm = 9\n",
    "dd = 1\n",
    "x = f'오늘은 {yy}년 {mm}월 {dd}일 입니다.'\n",
    "\n",
    "print(x)\n",
    "print(f'x의 변수형은 {type(x)}입니다.')\n",
    "print(f'x의 길이는 {len(x)}입니다')"
   ]
  },
  {
   "cell_type": "code",
   "execution_count": 22,
   "metadata": {
    "tags": []
   },
   "outputs": [
    {
     "output_type": "stream",
     "name": "stdout",
     "text": "오늘의 날짜: 2020-08-28\n"
    }
   ],
   "source": [
    "from datetime import date\n",
    "today = f'오늘의 날짜: {date.today()}'\n",
    "print(today)"
   ]
  },
  {
   "cell_type": "code",
   "execution_count": 23,
   "metadata": {
    "tags": []
   },
   "outputs": [
    {
     "output_type": "stream",
     "name": "stdout",
     "text": "date of today: 2020-08-28\n"
    }
   ],
   "source": [
    "today_eng = today.replace('오늘의 날짜','date of today')\n",
    "print(today_eng)"
   ]
  },
  {
   "cell_type": "code",
   "execution_count": 24,
   "metadata": {
    "tags": []
   },
   "outputs": [
    {
     "output_type": "stream",
     "name": "stdout",
     "text": "x = [1, 2, 3, 4, 5, 6, 7, 8]\n"
    }
   ],
   "source": [
    "x = [1,2,3,4,5,6,7,8]\n",
    "print(f'x = {x}')"
   ]
  },
  {
   "cell_type": "markdown",
   "metadata": {},
   "source": [
    "### 리스트와 인덱싱\n",
    "리스트를 만들고 다루는 것은 매우 중요합니다. \n",
    "리스트를 잘 다루기 위해서는 인덱싱을 이해해야 합니다."
   ]
  },
  {
   "cell_type": "code",
   "execution_count": 25,
   "metadata": {
    "tags": []
   },
   "outputs": [
    {
     "output_type": "stream",
     "name": "stdout",
     "text": "[0, 1, 2, 3]\n[0, 1, 2, 3, 7]\n[0, 1, 2, 3]\n[0, 2, 3]\n"
    }
   ],
   "source": [
    "x = [0,1,2,3]\n",
    "print(x)\n",
    "x.append(7)\n",
    "print(x)\n",
    "x.pop()\n",
    "print(x)\n",
    "x.pop(1)\n",
    "print(x)"
   ]
  },
  {
   "cell_type": "code",
   "execution_count": 26,
   "metadata": {
    "tags": []
   },
   "outputs": [
    {
     "output_type": "stream",
     "name": "stdout",
     "text": "[1, 2, 3, 4, 5, 6, 7, 8, 9, 10, 11, 12]\n[4, 5]\n[5, 6, 7, 8, 9, 10, 11, 12]\n[1, 2, 3, 4]\n[1, 2, 3, 4, 5, 6, 7, 8, 9, 10, 11, 12]\n[3, 6, 9, 12]\n[1, 2, 3, 4, 5, 6, 7, 8, 9]\n[2, 3, 4, 5, 6, 7, 8, 9, 10, 11]\n"
    }
   ],
   "source": [
    "x=[1,2,3,4,5,6,7,8,9,10,11,12]\n",
    "print(x)\n",
    "print(x[3:5])\n",
    "print(x[4:])\n",
    "print(x[:4])\n",
    "print(x[:])\n",
    "print(x[2::3])\n",
    "print(x[:-3])\n",
    "print(x[1:-1])"
   ]
  },
  {
   "cell_type": "code",
   "execution_count": 27,
   "metadata": {
    "tags": []
   },
   "outputs": [
    {
     "output_type": "stream",
     "name": "stdout",
     "text": "y = [0, 1, 2, 3, 4, 5, 6, 7]\nz = [3, 6, 9, 12, 15, 18]\n"
    }
   ],
   "source": [
    "y = range(8)\n",
    "z = range(3,20,3)\n",
    "\n",
    "print(f'y = {list(y)}')\n",
    "print(f'z = {list(z)}')"
   ]
  },
  {
   "cell_type": "markdown",
   "metadata": {},
   "source": [
    "### for, if/else가 파이썬에서 어떻게 쓰이는지 알아 봅시다."
   ]
  },
  {
   "cell_type": "code",
   "execution_count": 28,
   "metadata": {
    "tags": []
   },
   "outputs": [
    {
     "output_type": "stream",
     "name": "stdout",
     "text": "index: 0\nindex: 1\nindex: 2\nindex: 3\nindex: 4\nindex: 5\nindex: 6\nindex: 7\nindex: 8\nindex: 9\nindex: 10\nindex: 11\n"
    }
   ],
   "source": [
    "for j in range(12):\n",
    "    print(f'index: {j}')"
   ]
  },
  {
   "cell_type": "code",
   "execution_count": 29,
   "metadata": {
    "tags": []
   },
   "outputs": [
    {
     "output_type": "stream",
     "name": "stdout",
     "text": "1\n2\n-\n4\n5\n-\n7\n8\n-\n10\n11\n-\n13\n14\n-\n16\n17\n-\n19\n"
    }
   ],
   "source": [
    "for x in range(1,20,1):\n",
    "    if x%3==0:\n",
    "        print(f'-')\n",
    "    else:\n",
    "        print(x)"
   ]
  },
  {
   "cell_type": "markdown",
   "metadata": {},
   "source": [
    "# Numpy 맛보기\n",
    "- numpy는 python에서 다차원의 배열과 관련된 연산을 쉽게 처리할 수 있는 여러 기능들을 포함하는 라이브러리입니다.\n",
    "- digital image는 대표적인 다차원 array이므로 numpy를 이용한 연산은 디지털영상처리에서 매우 유용합니다."
   ]
  },
  {
   "cell_type": "code",
   "execution_count": 30,
   "metadata": {},
   "outputs": [],
   "source": [
    "import numpy as np"
   ]
  },
  {
   "cell_type": "markdown",
   "metadata": {},
   "source": [
    "### 1차원, 2차원, 3차원 배열을 만들어 봅니다."
   ]
  },
  {
   "cell_type": "code",
   "execution_count": 31,
   "metadata": {
    "tags": []
   },
   "outputs": [
    {
     "output_type": "stream",
     "name": "stdout",
     "text": "a=[1 2 3]\nshpae of a: (3,)\n"
    }
   ],
   "source": [
    "a=np.array([1,2,3])\n",
    "print(f'a={a}')\n",
    "print(f'shpae of a: {a.shape}')"
   ]
  },
  {
   "cell_type": "code",
   "execution_count": 32,
   "metadata": {
    "tags": []
   },
   "outputs": [
    {
     "output_type": "stream",
     "name": "stdout",
     "text": "b=[[1 2 3]\n [4 5 6]]\nshpae of b: (2, 3)\n"
    }
   ],
   "source": [
    "b=np.array([[1,2,3],[4,5,6]])\n",
    "print(f'b={b}')\n",
    "print(f'shpae of b: {b.shape}')"
   ]
  },
  {
   "cell_type": "code",
   "execution_count": 33,
   "metadata": {
    "tags": []
   },
   "outputs": [
    {
     "output_type": "stream",
     "name": "stdout",
     "text": "c=[[[1 2 3]\n  [4 5 6]]\n\n [[6 5 4]\n  [3 2 1]]]\nshpae of c: (2, 2, 3)\n"
    }
   ],
   "source": [
    "c=np.array([[[1,2,3],[4,5,6]],[[6,5,4],[3,2,1]]])\n",
    "print(f'c={c}')\n",
    "print(f'shpae of c: {c.shape}')"
   ]
  },
  {
   "cell_type": "markdown",
   "metadata": {},
   "source": [
    "### 0으로 이루어진 배열, 1로 이루어진 배열, 랜덤변수로 이루어진 배열을 생성해 봅니다."
   ]
  },
  {
   "cell_type": "code",
   "execution_count": 34,
   "metadata": {
    "tags": []
   },
   "outputs": [
    {
     "output_type": "stream",
     "name": "stdout",
     "text": "a = [[0. 0. 0.]\n [0. 0. 0.]\n [0. 0. 0.]]\ndatatype of a: float64\n"
    }
   ],
   "source": [
    "a = np.zeros((3,3))\n",
    "print(f'a = {a}')\n",
    "print(f'datatype of a: {a.dtype}')"
   ]
  },
  {
   "cell_type": "code",
   "execution_count": 35,
   "metadata": {
    "tags": []
   },
   "outputs": [
    {
     "output_type": "stream",
     "name": "stdout",
     "text": "b = [[1. 1. 1.]\n [1. 1. 1.]\n [1. 1. 1.]]\n"
    }
   ],
   "source": [
    "b = np.ones((3,3))\n",
    "print(f'b = {b}')"
   ]
  },
  {
   "cell_type": "code",
   "execution_count": 36,
   "metadata": {
    "tags": []
   },
   "outputs": [
    {
     "output_type": "stream",
     "name": "stdout",
     "text": "c = [[0.40037902 0.31626708 0.53984252]\n [0.03000483 0.3459967  0.64587747]\n [0.31112371 0.89064314 0.37646676]]\n"
    }
   ],
   "source": [
    "c = np.random.random((3,3))\n",
    "print(f'c = {c}')"
   ]
  },
  {
   "cell_type": "markdown",
   "metadata": {},
   "source": [
    "### 배열간의 연산을 수행해 봅시다."
   ]
  },
  {
   "cell_type": "code",
   "execution_count": 37,
   "metadata": {
    "tags": []
   },
   "outputs": [
    {
     "output_type": "stream",
     "name": "stdout",
     "text": "b + c = [[1.40037902 1.31626708 1.53984252]\n [1.03000483 1.3459967  1.64587747]\n [1.31112371 1.89064314 1.37646676]]\n"
    }
   ],
   "source": [
    "print(f'b + c = {b+c}')"
   ]
  },
  {
   "cell_type": "markdown",
   "metadata": {},
   "source": [
    "### Q. multiply와 dot의 차이는?"
   ]
  },
  {
   "cell_type": "code",
   "execution_count": 38,
   "metadata": {
    "tags": []
   },
   "outputs": [
    {
     "output_type": "stream",
     "name": "stdout",
     "text": "a = [[1, 2], [3, 4]]\nb = [[2, 4], [6, 8]]\nmultiply(a,b) = [[ 2  8]\n [18 32]]\ndot(a,b) = [[14 20]\n [30 44]]\n"
    }
   ],
   "source": [
    "a = [[1,2],[3,4]]\n",
    "print(f'a = {a}')\n",
    "b = [[2,4],[6,8]]\n",
    "print(f'b = {b}')\n",
    "\n",
    "print(f'multiply(a,b) = {np.multiply(a,b)}')\n",
    "print(f'dot(a,b) = {np.dot(a,b)}')"
   ]
  },
  {
   "cell_type": "code",
   "execution_count": null,
   "metadata": {},
   "outputs": [],
   "source": []
  }
 ]
}