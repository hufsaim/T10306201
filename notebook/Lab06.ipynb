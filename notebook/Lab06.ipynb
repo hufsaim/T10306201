{
  "nbformat": 4,
  "nbformat_minor": 0,
  "metadata": {
    "colab": {
      "name": "Lab06.ipynb",
      "provenance": [],
      "collapsed_sections": [],
      "toc_visible": true,
      "authorship_tag": "ABX9TyOLmyfIt9fNuH3XV8vgXwCP",
      "include_colab_link": true
    },
    "kernelspec": {
      "name": "python3",
      "display_name": "Python 3"
    },
    "accelerator": "GPU"
  },
  "cells": [
    {
      "cell_type": "markdown",
      "metadata": {
        "id": "view-in-github",
        "colab_type": "text"
      },
      "source": [
        "<a href=\"https://colab.research.google.com/github/hufsaim/T10306201/blob/master/notebook/Lab06.ipynb\" target=\"_parent\"><img src=\"https://colab.research.google.com/assets/colab-badge.svg\" alt=\"Open In Colab\"/></a>"
      ]
    },
    {
      "cell_type": "markdown",
      "metadata": {
        "id": "KU3gymLI5VA3"
      },
      "source": [
        "# Data augmentation and Implementation of CNN"
      ]
    },
    {
      "cell_type": "markdown",
      "metadata": {
        "id": "3flS45hSM1KJ"
      },
      "source": [
        "- PyTorch를 이용하여 주어진 CNN architecture를 구현하고, cifar-10 dataset에 data augmentation을 적용하여 모델을 훈련해봅니다. "
      ]
    },
    {
      "cell_type": "code",
      "metadata": {
        "id": "-rw80Nho5OGA"
      },
      "source": [
        "import torch\n",
        "import torch.nn as nn\n",
        "import torch.optim as optim\n",
        "import torchvision\n",
        "from torchvision import transforms\n",
        "from torch.utils.data import DataLoader\n",
        "import matplotlib.pyplot as plt\n",
        "import numpy as np"
      ],
      "execution_count": 2,
      "outputs": []
    },
    {
      "cell_type": "markdown",
      "metadata": {
        "id": "qMRRjAQgN8yl"
      },
      "source": [
        "- print(device)를 통해 cuda가 출력되어 GPU를 활용할 수 있음을 확인합니다."
      ]
    },
    {
      "cell_type": "code",
      "metadata": {
        "id": "IIFEGu8U5dpg",
        "outputId": "d2b937b8-304f-4ebc-a7d8-e38c44423046",
        "colab": {
          "base_uri": "https://localhost:8080/"
        }
      },
      "source": [
        "if torch.cuda.is_available():\n",
        "  device = torch.device('cuda:0')\n",
        "else:\n",
        "  device = torch.device('cpu')\n",
        "\n",
        "print(device)"
      ],
      "execution_count": 3,
      "outputs": [
        {
          "output_type": "stream",
          "text": [
            "cuda:0\n"
          ],
          "name": "stdout"
        }
      ]
    },
    {
      "cell_type": "code",
      "metadata": {
        "id": "2_fm-eSz5s_z",
        "outputId": "e064a551-ddce-42d2-da2c-c64b7dd65969",
        "colab": {
          "base_uri": "https://localhost:8080/"
        }
      },
      "source": [
        "from google.colab import drive\n",
        "drive.mount('/content/drive')"
      ],
      "execution_count": 4,
      "outputs": [
        {
          "output_type": "stream",
          "text": [
            "Drive already mounted at /content/drive; to attempt to forcibly remount, call drive.mount(\"/content/drive\", force_remount=True).\n"
          ],
          "name": "stdout"
        }
      ]
    },
    {
      "cell_type": "code",
      "metadata": {
        "id": "qecrQBTQ5vtJ"
      },
      "source": [
        "path2 = '<your path>"
      ],
      "execution_count": 5,
      "outputs": []
    },
    {
      "cell_type": "markdown",
      "metadata": {
        "id": "3KqvPrMwOGrB"
      },
      "source": [
        "- torchvision의 다양한 종류의 transform들을 제공하고 있어 영상데이터의 augmentation에 활용할 수 있으며, 또한 자신만의 transform function을 만들어 활용할 수 있습니다.\n",
        "- https://pytorch.org/docs/stable/torchvision/transforms.html"
      ]
    },
    {
      "cell_type": "code",
      "metadata": {
        "id": "dhvh9v2I5lLi",
        "outputId": "b42ee505-6ec6-40be-8260-739ebe0ed516",
        "colab": {
          "base_uri": "https://localhost:8080/"
        }
      },
      "source": [
        "transform_train = transforms.Compose(\n",
        "    [transforms.RandomHorizontalFlip(),\n",
        "     transforms.ColorJitter(brightness=0.3, contrast=0.3, saturation=0.3, hue=0.3),\n",
        "     transforms.RandomAffine((-10,10), shear=10, scale=(0.99, 1.01)),\n",
        "     transforms.Resize((34,34)),\n",
        "     transforms.CenterCrop(32),\n",
        "     transforms.ToTensor()]\n",
        "     )\n",
        "transform_valid = transforms.Compose(\n",
        "    [transforms.ToTensor()]\n",
        "    )\n",
        "\n",
        "cifar10_train = torchvision.datasets.CIFAR10(path2, train=True, transform=transform_train, target_transform=None, download=True)\n",
        "cifar10_valid = torchvision.datasets.CIFAR10(path2, train=False, transform=transform_valid, target_transform=None, download=True)\n",
        "def get_cifar10_labels(labels):\n",
        "    text_labels = ['airplane', 'car', 'bird', 'cat', 'deer',\n",
        "                   'dog', 'frog', 'horse', 'ship', 'truck']\n",
        "    return [text_labels[int(i)] for i in labels]\n",
        "\n",
        "# defining data_iter, linreg. model, loss, sgd\n",
        "batch_size = 100\n",
        "num_workers = 0\n",
        "train_iter = DataLoader(cifar10_train, batch_size, shuffle=True, num_workers=num_workers)\n",
        "valid_iter = DataLoader(cifar10_valid, batch_size, shuffle=False, num_workers=num_workers)"
      ],
      "execution_count": 6,
      "outputs": [
        {
          "output_type": "stream",
          "text": [
            "Files already downloaded and verified\n",
            "Files already downloaded and verified\n"
          ],
          "name": "stdout"
        }
      ]
    },
    {
      "cell_type": "markdown",
      "metadata": {
        "id": "qQ3lQcSjPG8Q"
      },
      "source": [
        "- cifar10 데이터에 대해 살펴봅니다."
      ]
    },
    {
      "cell_type": "code",
      "metadata": {
        "id": "ZVomIvYiJ9OA",
        "outputId": "311ec31d-741d-4aac-af55-e788c7f1a70d",
        "colab": {
          "base_uri": "https://localhost:8080/"
        }
      },
      "source": [
        "cifar10_train"
      ],
      "execution_count": 7,
      "outputs": [
        {
          "output_type": "execute_result",
          "data": {
            "text/plain": [
              "Dataset CIFAR10\n",
              "    Number of datapoints: 50000\n",
              "    Root location: /content/drive/My Drive/Class/2020-2-bme-dip/data03/\n",
              "    Split: Train\n",
              "    StandardTransform\n",
              "Transform: Compose(\n",
              "               RandomHorizontalFlip(p=0.5)\n",
              "               ColorJitter(brightness=[0.7, 1.3], contrast=[0.7, 1.3], saturation=[0.7, 1.3], hue=[-0.3, 0.3])\n",
              "               RandomAffine(degrees=[-10.0, 10.0], scale=(0.99, 1.01), shear=[-10.0, 10.0])\n",
              "               Resize(size=(34, 34), interpolation=PIL.Image.BILINEAR)\n",
              "               CenterCrop(size=(32, 32))\n",
              "               ToTensor()\n",
              "           )"
            ]
          },
          "metadata": {
            "tags": []
          },
          "execution_count": 7
        }
      ]
    },
    {
      "cell_type": "code",
      "metadata": {
        "id": "12YFwLybFdty",
        "outputId": "3732688b-74b0-4674-b68d-503762983934",
        "colab": {
          "base_uri": "https://localhost:8080/"
        }
      },
      "source": [
        "cifar10_valid"
      ],
      "execution_count": 8,
      "outputs": [
        {
          "output_type": "execute_result",
          "data": {
            "text/plain": [
              "Dataset CIFAR10\n",
              "    Number of datapoints: 10000\n",
              "    Root location: /content/drive/My Drive/Class/2020-2-bme-dip/data03/\n",
              "    Split: Test\n",
              "    StandardTransform\n",
              "Transform: Compose(\n",
              "               ToTensor()\n",
              "           )"
            ]
          },
          "metadata": {
            "tags": []
          },
          "execution_count": 8
        }
      ]
    },
    {
      "cell_type": "code",
      "metadata": {
        "id": "nmGr-Q_h5lOr",
        "outputId": "3a181891-fad6-45d2-b836-f0b743b57fec",
        "colab": {
          "base_uri": "https://localhost:8080/",
          "height": 392
        }
      },
      "source": [
        "dataiter=iter(train_iter)\n",
        "images, labels = dataiter.next()\n",
        "print(labels.shape)\n",
        "print(images.shape)\n",
        "I = images[0].numpy()\n",
        "plt.figure(dpi=100)\n",
        "\n",
        "plt.imshow(np.transpose(I,[1,2,0]),cmap='gray')\n",
        "plt.axis('off')\n",
        "plt.show()\n",
        "print(get_cifar10_labels([labels[0]]))"
      ],
      "execution_count": 9,
      "outputs": [
        {
          "output_type": "stream",
          "text": [
            "torch.Size([100])\n",
            "torch.Size([100, 3, 32, 32])\n"
          ],
          "name": "stdout"
        },
        {
          "output_type": "display_data",
          "data": {
            "image/png": "[encoded data removed]",
            "text/plain": [
              "<Figure size 600x400 with 1 Axes>"
            ]
          },
          "metadata": {
            "tags": [],
            "needs_background": "light"
          }
        },
        {
          "output_type": "stream",
          "text": [
            "['ship']\n"
          ],
          "name": "stdout"
        }
      ]
    },
    {
      "cell_type": "markdown",
      "metadata": {
        "id": "DNGe9u8uPKE0"
      },
      "source": [
        "- PyTorch에서 제공하는 유명한 CNN architecture를 가져와서 구조를 살펴봅니다.\n",
        "- PyTorch에서는 resnet, densenet 등 유명한 network를 쉽게 불러와서 활용할 수 있습니다. \n",
        "- 여기서는 vgg16 을 가져와 보겠습니다.\n",
        "- https://pytorch.org/hub/research-models "
      ]
    },
    {
      "cell_type": "code",
      "metadata": {
        "id": "V-MVmH1gOCa8",
        "outputId": "6f63b853-8a37-42db-e00e-6ea717bfdca7",
        "colab": {
          "base_uri": "https://localhost:8080/"
        }
      },
      "source": [
        "vgg16 = torch.hub.load('pytorch/vision:v0.6.0', 'vgg16', pretrained=False)\n",
        "vgg16"
      ],
      "execution_count": 12,
      "outputs": [
        {
          "output_type": "stream",
          "text": [
            "Using cache found in /root/.cache/torch/hub/pytorch_vision_v0.6.0\n"
          ],
          "name": "stderr"
        },
        {
          "output_type": "execute_result",
          "data": {
            "text/plain": [
              "VGG(\n",
              "  (features): Sequential(\n",
              "    (0): Conv2d(3, 64, kernel_size=(3, 3), stride=(1, 1), padding=(1, 1))\n",
              "    (1): ReLU(inplace=True)\n",
              "    (2): Conv2d(64, 64, kernel_size=(3, 3), stride=(1, 1), padding=(1, 1))\n",
              "    (3): ReLU(inplace=True)\n",
              "    (4): MaxPool2d(kernel_size=2, stride=2, padding=0, dilation=1, ceil_mode=False)\n",
              "    (5): Conv2d(64, 128, kernel_size=(3, 3), stride=(1, 1), padding=(1, 1))\n",
              "    (6): ReLU(inplace=True)\n",
              "    (7): Conv2d(128, 128, kernel_size=(3, 3), stride=(1, 1), padding=(1, 1))\n",
              "    (8): ReLU(inplace=True)\n",
              "    (9): MaxPool2d(kernel_size=2, stride=2, padding=0, dilation=1, ceil_mode=False)\n",
              "    (10): Conv2d(128, 256, kernel_size=(3, 3), stride=(1, 1), padding=(1, 1))\n",
              "    (11): ReLU(inplace=True)\n",
              "    (12): Conv2d(256, 256, kernel_size=(3, 3), stride=(1, 1), padding=(1, 1))\n",
              "    (13): ReLU(inplace=True)\n",
              "    (14): Conv2d(256, 256, kernel_size=(3, 3), stride=(1, 1), padding=(1, 1))\n",
              "    (15): ReLU(inplace=True)\n",
              "    (16): MaxPool2d(kernel_size=2, stride=2, padding=0, dilation=1, ceil_mode=False)\n",
              "    (17): Conv2d(256, 512, kernel_size=(3, 3), stride=(1, 1), padding=(1, 1))\n",
              "    (18): ReLU(inplace=True)\n",
              "    (19): Conv2d(512, 512, kernel_size=(3, 3), stride=(1, 1), padding=(1, 1))\n",
              "    (20): ReLU(inplace=True)\n",
              "    (21): Conv2d(512, 512, kernel_size=(3, 3), stride=(1, 1), padding=(1, 1))\n",
              "    (22): ReLU(inplace=True)\n",
              "    (23): MaxPool2d(kernel_size=2, stride=2, padding=0, dilation=1, ceil_mode=False)\n",
              "    (24): Conv2d(512, 512, kernel_size=(3, 3), stride=(1, 1), padding=(1, 1))\n",
              "    (25): ReLU(inplace=True)\n",
              "    (26): Conv2d(512, 512, kernel_size=(3, 3), stride=(1, 1), padding=(1, 1))\n",
              "    (27): ReLU(inplace=True)\n",
              "    (28): Conv2d(512, 512, kernel_size=(3, 3), stride=(1, 1), padding=(1, 1))\n",
              "    (29): ReLU(inplace=True)\n",
              "    (30): MaxPool2d(kernel_size=2, stride=2, padding=0, dilation=1, ceil_mode=False)\n",
              "  )\n",
              "  (avgpool): AdaptiveAvgPool2d(output_size=(7, 7))\n",
              "  (classifier): Sequential(\n",
              "    (0): Linear(in_features=25088, out_features=4096, bias=True)\n",
              "    (1): ReLU(inplace=True)\n",
              "    (2): Dropout(p=0.5, inplace=False)\n",
              "    (3): Linear(in_features=4096, out_features=4096, bias=True)\n",
              "    (4): ReLU(inplace=True)\n",
              "    (5): Dropout(p=0.5, inplace=False)\n",
              "    (6): Linear(in_features=4096, out_features=1000, bias=True)\n",
              "  )\n",
              ")"
            ]
          },
          "metadata": {
            "tags": []
          },
          "execution_count": 12
        }
      ]
    },
    {
      "cell_type": "markdown",
      "metadata": {
        "id": "ufH50VeOPAwL"
      },
      "source": [
        "- 위에서 출력한 network구조를 참고하여 Vgg와 유사한 network를 직접 구현해 봅시다.\n",
        "- 위의 network는 input image가 224 x 224 정도인 경우에 대해 고안된 것이므로, 우리는 32x32의 매우 작은 input image를 다루고 있기 때문에 이를 고려하여야 합니다."
      ]
    },
    {
      "cell_type": "code",
      "metadata": {
        "id": "GKS9cociJLcP",
        "outputId": "f43bc166-e4e0-46eb-f179-b41c50025f90",
        "colab": {
          "base_uri": "https://localhost:8080/"
        }
      },
      "source": [
        "class Flatten(torch.nn.Module):\n",
        "    def forward(self, x):\n",
        "        return x.view(x.shape[0], -1)\n",
        "\n",
        "net = torch.nn.Sequential(\n",
        "    \n",
        "    nn.Conv2d(in_channels=3, out_channels=64, kernel_size=3, stride=1,padding=1),\n",
        "    nn.ReLU(),\n",
        "    nn.Conv2d(in_channels=64, out_channels=64, kernel_size=3, stride=1,padding=1),\n",
        "    nn.ReLU(),\n",
        "    nn.MaxPool2d(kernel_size=2,stride=2), # 64 x 16 x 16\n",
        "\n",
        "    nn.Conv2d(in_channels=64, out_channels=128, kernel_size=3, stride=1,padding=1),\n",
        "    nn.ReLU(),\n",
        "    nn.Conv2d(in_channels=128, out_channels=128, kernel_size=3, stride=1,padding=1),\n",
        "    nn.ReLU(),\n",
        "    nn.MaxPool2d(kernel_size=2,stride=2), # 128 x 8 x 8\n",
        "\n",
        "    nn.Conv2d(in_channels=128, out_channels=256, kernel_size=3, stride=1,padding=1),\n",
        "    nn.ReLU(),\n",
        "    nn.Conv2d(in_channels=256, out_channels=256, kernel_size=3, stride=1,padding=1),\n",
        "    nn.ReLU(),    \n",
        "    nn.Conv2d(in_channels=256, out_channels=256, kernel_size=3, stride=1,padding=1),\n",
        "    nn.ReLU(),\n",
        "    nn.MaxPool2d(kernel_size=2,stride=2),  # 256 x 4 x 4\n",
        "\n",
        "    nn.AdaptiveAvgPool2d(output_size = (3, 3)), # 256 x 3 x 3\n",
        "        \n",
        "    Flatten(),\n",
        "\n",
        "    nn.Linear(in_features=256*3*3, out_features=256,bias=True),\n",
        "    nn.ReLU(),\n",
        "    nn.Dropout(p=0.5),\n",
        "    nn.Linear(in_features=256, out_features=256,bias=True),\n",
        "    nn.ReLU(),\n",
        "    nn.Dropout(p=0.5),    \n",
        "    nn.Linear(in_features=256, out_features=10,bias=True)\n",
        "\n",
        "\n",
        ")\n",
        "\n",
        "net = net.to(device)\n",
        "net"
      ],
      "execution_count": 17,
      "outputs": [
        {
          "output_type": "execute_result",
          "data": {
            "text/plain": [
              "Sequential(\n",
              "  (0): Conv2d(3, 64, kernel_size=(3, 3), stride=(1, 1), padding=(1, 1))\n",
              "  (1): ReLU()\n",
              "  (2): Conv2d(64, 64, kernel_size=(3, 3), stride=(1, 1), padding=(1, 1))\n",
              "  (3): ReLU()\n",
              "  (4): MaxPool2d(kernel_size=2, stride=2, padding=0, dilation=1, ceil_mode=False)\n",
              "  (5): Conv2d(64, 128, kernel_size=(3, 3), stride=(1, 1), padding=(1, 1))\n",
              "  (6): ReLU()\n",
              "  (7): Conv2d(128, 128, kernel_size=(3, 3), stride=(1, 1), padding=(1, 1))\n",
              "  (8): ReLU()\n",
              "  (9): MaxPool2d(kernel_size=2, stride=2, padding=0, dilation=1, ceil_mode=False)\n",
              "  (10): Conv2d(128, 256, kernel_size=(3, 3), stride=(1, 1), padding=(1, 1))\n",
              "  (11): ReLU()\n",
              "  (12): Conv2d(256, 256, kernel_size=(3, 3), stride=(1, 1), padding=(1, 1))\n",
              "  (13): ReLU()\n",
              "  (14): Conv2d(256, 256, kernel_size=(3, 3), stride=(1, 1), padding=(1, 1))\n",
              "  (15): ReLU()\n",
              "  (16): MaxPool2d(kernel_size=2, stride=2, padding=0, dilation=1, ceil_mode=False)\n",
              "  (17): AdaptiveAvgPool2d(output_size=(3, 3))\n",
              "  (18): Flatten()\n",
              "  (19): Linear(in_features=2304, out_features=256, bias=True)\n",
              "  (20): ReLU()\n",
              "  (21): Dropout(p=0.5, inplace=False)\n",
              "  (22): Linear(in_features=256, out_features=256, bias=True)\n",
              "  (23): ReLU()\n",
              "  (24): Dropout(p=0.5, inplace=False)\n",
              "  (25): Linear(in_features=256, out_features=10, bias=True)\n",
              ")"
            ]
          },
          "metadata": {
            "tags": []
          },
          "execution_count": 17
        }
      ]
    },
    {
      "cell_type": "markdown",
      "metadata": {
        "id": "nWBGuPHJPQlm"
      },
      "source": [
        "- 임의로 random tensor를 생성하여, network의 각 layer에 shape을 확인해봅니다."
      ]
    },
    {
      "cell_type": "code",
      "metadata": {
        "id": "w9fl7PPRLP5j",
        "outputId": "97d4ff60-2cee-4ce9-d661-8454b7223dfb",
        "colab": {
          "base_uri": "https://localhost:8080/"
        }
      },
      "source": [
        "X = torch.randn(size=(1,3,32,32), dtype = torch.float32)\n",
        "X = X.to(device)\n",
        "for layer in net:\n",
        "    X = layer(X)\n",
        "    print(layer.__class__.__name__,'output shape: \\t',X.shape)"
      ],
      "execution_count": 18,
      "outputs": [
        {
          "output_type": "stream",
          "text": [
            "Conv2d output shape: \t torch.Size([1, 64, 32, 32])\n",
            "ReLU output shape: \t torch.Size([1, 64, 32, 32])\n",
            "Conv2d output shape: \t torch.Size([1, 64, 32, 32])\n",
            "ReLU output shape: \t torch.Size([1, 64, 32, 32])\n",
            "MaxPool2d output shape: \t torch.Size([1, 64, 16, 16])\n",
            "Conv2d output shape: \t torch.Size([1, 128, 16, 16])\n",
            "ReLU output shape: \t torch.Size([1, 128, 16, 16])\n",
            "Conv2d output shape: \t torch.Size([1, 128, 16, 16])\n",
            "ReLU output shape: \t torch.Size([1, 128, 16, 16])\n",
            "MaxPool2d output shape: \t torch.Size([1, 128, 8, 8])\n",
            "Conv2d output shape: \t torch.Size([1, 256, 8, 8])\n",
            "ReLU output shape: \t torch.Size([1, 256, 8, 8])\n",
            "Conv2d output shape: \t torch.Size([1, 256, 8, 8])\n",
            "ReLU output shape: \t torch.Size([1, 256, 8, 8])\n",
            "Conv2d output shape: \t torch.Size([1, 256, 8, 8])\n",
            "ReLU output shape: \t torch.Size([1, 256, 8, 8])\n",
            "MaxPool2d output shape: \t torch.Size([1, 256, 4, 4])\n",
            "AdaptiveAvgPool2d output shape: \t torch.Size([1, 256, 3, 3])\n",
            "Flatten output shape: \t torch.Size([1, 2304])\n",
            "Linear output shape: \t torch.Size([1, 256])\n",
            "ReLU output shape: \t torch.Size([1, 256])\n",
            "Dropout output shape: \t torch.Size([1, 256])\n",
            "Linear output shape: \t torch.Size([1, 256])\n",
            "ReLU output shape: \t torch.Size([1, 256])\n",
            "Dropout output shape: \t torch.Size([1, 256])\n",
            "Linear output shape: \t torch.Size([1, 10])\n"
          ],
          "name": "stdout"
        }
      ]
    },
    {
      "cell_type": "markdown",
      "metadata": {
        "id": "F5IWjPFXPap3"
      },
      "source": [
        "- Learning rate, num_epochs, loss function, backpropagation algorithm을 정해줍니다.."
      ]
    },
    {
      "cell_type": "code",
      "metadata": {
        "id": "xkDcn5-E-Bf-"
      },
      "source": [
        "# setting hyper-parameters\n",
        "learning_rate = 0.1\n",
        "num_epochs = 100\n",
        "\n",
        "# loss function and algorithm\n",
        "loss = torch.nn.CrossEntropyLoss() # loss\n",
        "alg = torch.optim.SGD(net.parameters(),lr=learning_rate) # sgd"
      ],
      "execution_count": 19,
      "outputs": []
    },
    {
      "cell_type": "markdown",
      "metadata": {
        "id": "WoaWf0FBPiKb"
      },
      "source": [
        "- 네트워크에 대한 훈련을 진행합니다. 매 10회마다 결과를 출력하게 하였습니다. train, valid accuracy의 변화를 관찰합니다.\n",
        "- 최종결과가 만족스럽지 않은 경우에는 hyper-parameter를 바꾸어가며 다시 학습을 진행합니다.\n",
        "- input data에 대한 random transformation을 추가하는 것은 overfitting에 도움을 줄 수 있습니다.\n",
        "- vggnet이나 resnet과 같이 좀 더 효율적인 네트워크 구조를 적용해 볼 수도 있습니다."
      ]
    },
    {
      "cell_type": "code",
      "metadata": {
        "id": "qwFZjo22-Brj",
        "outputId": "83acfbf6-7fe0-486f-f721-b5d2d3e81ef0",
        "colab": {
          "base_uri": "https://localhost:8080/",
          "height": 1000
        }
      },
      "source": [
        "# training the model\n",
        "loss_train = np.array([])\n",
        "accs_train = np.array([])\n",
        "accs_valid = np.array([])\n",
        "\n",
        "for epoch in range(num_epochs):\n",
        "  i=0\n",
        "  l_epoch = 0\n",
        "  correct = 0\n",
        "  for X,y in train_iter:\n",
        "    i=i+1\n",
        "    X,y = X.to(device),y.to(device) # GPU \n",
        "    y_hat=net(X)\n",
        "    correct += (y_hat.argmax(dim=1)==y).sum()\n",
        "    l=loss(y_hat,y)\n",
        "    l_epoch+=l\n",
        "    alg.zero_grad()\n",
        "    l.backward()\n",
        "    alg.step()\n",
        "\n",
        "  loss_train = np.append(loss_train,l_epoch.cpu().detach().numpy()/i)\n",
        "  accs_train = np.append(accs_train,correct.cpu()/50000.)\n",
        "\n",
        "  correct = 0\n",
        "  for X,y in valid_iter:\n",
        "    X,y = X.to(device),y.to(device)\n",
        "    y_hat = net(X)\n",
        "    correct += (y_hat.argmax(dim=1)==y).sum()\n",
        "\n",
        "  accs_valid = np.append(accs_valid,correct.cpu()/10000.)\n",
        "\n",
        "\n",
        "  if epoch%10 == 0:\n",
        "    plt.plot(loss_train,label='train loss')\n",
        "    plt.plot(accs_train,label='train accuracy')\n",
        "    plt.plot(accs_valid,label='valid accuracy')\n",
        "    plt.legend(loc='lower left')\n",
        "    plt.title('epoch: %d '%(epoch))\n",
        "    plt.pause(.0001)\n",
        "\n",
        "    print('train loss: ',loss_train[-1])\n",
        "    print('train accuracy: ',accs_train[-1])\n",
        "    print('valid accuracy: ',accs_valid[-1])"
      ],
      "execution_count": null,
      "outputs": [
        {
          "output_type": "display_data",
          "data": {
            "image/png": "[encoded data removed]",
            "text/plain": [
              "<Figure size 432x288 with 1 Axes>"
            ]
          },
          "metadata": {
            "tags": [],
            "needs_background": "light"
          }
        },
        {
          "output_type": "stream",
          "text": [
            "train loss:  2.3031162109375\n",
            "train accuracy:  0.09814000129699707\n",
            "valid accuracy:  0.10499999672174454\n"
          ],
          "name": "stdout"
        },
        {
          "output_type": "display_data",
          "data": {
            "image/png": "[encoded data removed]",
            "text/plain": [
              "<Figure size 432x288 with 1 Axes>"
            ]
          },
          "metadata": {
            "tags": [],
            "needs_background": "light"
          }
        },
        {
          "output_type": "stream",
          "text": [
            "train loss:  2.2774541015625\n",
            "train accuracy:  0.1381399929523468\n",
            "valid accuracy:  0.17350000143051147\n"
          ],
          "name": "stdout"
        },
        {
          "output_type": "display_data",
          "data": {
            "image/png": "[encoded data removed]",
            "text/plain": [
              "<Figure size 432x288 with 1 Axes>"
            ]
          },
          "metadata": {
            "tags": [],
            "needs_background": "light"
          }
        },
        {
          "output_type": "stream",
          "text": [
            "train loss:  1.260059814453125\n",
            "train accuracy:  0.5575199723243713\n",
            "valid accuracy:  0.5805000066757202\n"
          ],
          "name": "stdout"
        },
        {
          "output_type": "display_data",
          "data": {
            "image/png": "[encoded data removed]",
            "text/plain": [
              "<Figure size 432x288 with 1 Axes>"
            ]
          },
          "metadata": {
            "tags": [],
            "needs_background": "light"
          }
        },
        {
          "output_type": "stream",
          "text": [
            "train loss:  0.7188036499023438\n",
            "train accuracy:  0.7594799995422363\n",
            "valid accuracy:  0.7627999782562256\n"
          ],
          "name": "stdout"
        }
      ]
    },
    {
      "cell_type": "code",
      "metadata": {
        "id": "-Pvut0zwUsSh",
        "outputId": "a2cc3ac7-c699-4026-ce64-e2b29ed6e76c",
        "colab": {
          "base_uri": "https://localhost:8080/"
        }
      },
      "source": [
        "print('valid_accuracy: ',accs_valid[-1])\n"
      ],
      "execution_count": null,
      "outputs": [
        {
          "output_type": "stream",
          "text": [
            "valid_accuracy:  0.5593000054359436\n"
          ],
          "name": "stdout"
        }
      ]
    },
    {
      "cell_type": "markdown",
      "metadata": {
        "id": "S65JimMqQQWG"
      },
      "source": [
        "- validation set의 몇몇 example에 대한 결과를 관찰해 봅니다."
      ]
    },
    {
      "cell_type": "code",
      "metadata": {
        "id": "9YvjZ2MV-BwY"
      },
      "source": [
        "i = 0\n",
        "for X,y in valid_iter:\n",
        "  i=i+1\n",
        "  X=X.to(device)\n",
        "  y_hat = net(X)    \n",
        "  y_hat = y_hat.argmax(dim=1)\n",
        "  for n in range(4):\n",
        "    plt.figure(dpi=100)\n",
        "    plt.imshow(np.transpose(X[n].cpu().squeeze(),[1,2,0]),cmap='gray')\n",
        "    plt.title('label: %s \\n prediction: %s'%(get_cifar10_labels([y[n]]),get_cifar10_labels([y_hat[n]])))\n",
        "    plt.axis('off')\n",
        "    plt.pause(.0001)\n",
        "  if i>2:\n",
        "     break"
      ],
      "execution_count": null,
      "outputs": []
    }
  ]
}
